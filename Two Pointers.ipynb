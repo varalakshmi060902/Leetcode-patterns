{
 "cells": [
  {
   "cell_type": "markdown",
   "id": "70726149",
   "metadata": {},
   "source": [
    " ### Valid Palindrome\n",
    "\n",
    "Given a string s, return true if it is a palindrome, otherwise return false.\n",
    "\n",
    "A palindrome is a string that reads the same forward and backward. It is also case-insensitive and ignores all non-alphanumeric characters."
   ]
  },
  {
   "cell_type": "code",
   "execution_count": null,
   "id": "0757a23e",
   "metadata": {},
   "outputs": [],
   "source": [
    "class Solution:\n",
    "    def isPalindrome(self, s: str) -> bool:\n",
    "        t=\"\"\n",
    "        for i in s:\n",
    "            if 90<ord(i)<123 or 47<ord(i)<58:\n",
    "                t=t+i\n",
    "            if 64<ord(i)<91:\n",
    "                t=t+chr(ord(i)+32)\n",
    "\n",
    "        i,j=0,len(t)-1\n",
    "        while i<j:\n",
    "            if t[i]!=t[j]:\n",
    "                return False\n",
    "            i+=1\n",
    "            j-=1\n",
    "        return True"
   ]
  },
  {
   "cell_type": "markdown",
   "id": "d3ce4e11",
   "metadata": {},
   "source": [
    "### Two Integer Sum II\n",
    "\n",
    "Given an array of integers numbers that is sorted in non-decreasing order.\n",
    "\n",
    "Return the indices (1-indexed) of two numbers, [index1, index2], such that they add up to a given target number target and index1 < index2. Note that index1 and index2 cannot be equal, therefore you may not use the same element twice.\n",
    "\n",
    "There will always be exactly one valid solution.\n",
    "\n",
    "Your solution must use O(1) additional space."
   ]
  },
  {
   "cell_type": "code",
   "execution_count": null,
   "id": "248dc783",
   "metadata": {},
   "outputs": [],
   "source": [
    "class Solution:\n",
    "    def twoSum(self, numbers: List[int], target: int) -> List[int]:\n",
    "        i,j=0,len(numbers)-1\n",
    "        while i<j:\n",
    "            if numbers[i]+numbers[j]==target:\n",
    "                return [i+1,j+1]\n",
    "            if numbers[i]+numbers[j]<target:\n",
    "                i=i+1\n",
    "            if numbers[i]+numbers[j]>target:\n",
    "                j-=1"
   ]
  },
  {
   "cell_type": "markdown",
   "id": "83da7b90",
   "metadata": {},
   "source": [
    "### 3Sum\n",
    "\n",
    "Given an integer array nums, return all the triplets [nums[i], nums[j], nums[k]] where nums[i] + nums[j] + nums[k] == 0, and the indices i, j and k are all distinct.\n",
    "\n",
    "The output should not contain any duplicate triplets. You may return the output and the triplets in any order."
   ]
  },
  {
   "cell_type": "code",
   "execution_count": null,
   "id": "02a315be",
   "metadata": {},
   "outputs": [],
   "source": [
    "class Solution:\n",
    "    def threeSum(self, nums: List[int]) -> List[List[int]]:\n",
    "        nums=sorted(nums)\n",
    "        output=[]\n",
    "        for i in range(len(nums)-2):\n",
    "            if nums[i]>0:\n",
    "                break\n",
    "            if i>0 and nums[i]==nums[i-1]:\n",
    "                continue\n",
    "            target=-1*nums[i]\n",
    "            j,k=i+1,len(nums)-1\n",
    "            while j<k:\n",
    "                if nums[j]+nums[k]==target:\n",
    "                    output.append([nums[i],nums[j],nums[k]])\n",
    "                    j+=1\n",
    "                    k-=1\n",
    "                    while j<k and nums[j]==nums[j-1]:\n",
    "                        j+=1\n",
    "                elif nums[j]+nums[k]>target:\n",
    "                    k-=1\n",
    "                else:\n",
    "                    j+=1\n",
    "        return output"
   ]
  },
  {
   "cell_type": "markdown",
   "id": "7cd11516",
   "metadata": {},
   "source": [
    "### Container With Most Water\n",
    "\n",
    "You are given an integer array heights where heights[i] represents the height of the ith bar.\n",
    "\n",
    "You may choose any two bars to form a container. Return the maximum amount of water a container can store."
   ]
  },
  {
   "cell_type": "code",
   "execution_count": null,
   "id": "948c5d7d",
   "metadata": {},
   "outputs": [],
   "source": [
    "class Solution:\n",
    "    def maxArea(self, heights: List[int]) -> int:\n",
    "        maxu=0\n",
    "        i,j=0,len(heights)-1\n",
    "        while i<j:\n",
    "            area=min(heights[i],heights[j])*(j-i)\n",
    "            maxu=max(area,maxu)\n",
    "            if heights[i]<heights[j]:\n",
    "                i+=1\n",
    "            else:\n",
    "                j-=1\n",
    "        return maxu"
   ]
  },
  {
   "cell_type": "markdown",
   "id": "4c5689c7",
   "metadata": {},
   "source": [
    "### Trapping Rain Water\n",
    "\n",
    "You are given an array non-negative integers height which represent an elevation map. Each value height[i] represents the height of a bar, which has a width of 1.\n",
    "\n",
    "Return the maximum area of water that can be trapped between the bars."
   ]
  },
  {
   "cell_type": "code",
   "execution_count": null,
   "id": "0ba82852",
   "metadata": {},
   "outputs": [],
   "source": [
    "class Solution:\n",
    "    def trap(self, height: List[int]) -> int:\n",
    "        re=0\n",
    "        if len(height)==1:\n",
    "            return 0\n",
    "        for i in range(1, len(height)-1):\n",
    "            left=height[i+1:]\n",
    "            right=height[:i]\n",
    "            l=max(left)\n",
    "            r=max(right)\n",
    "            if l>height[i] and r>height[i]:\n",
    "                re+=(min(l,r)-height[i])\n",
    "        return re"
   ]
  }
 ],
 "metadata": {
  "kernelspec": {
   "display_name": "Python 3 (ipykernel)",
   "language": "python",
   "name": "python3"
  },
  "language_info": {
   "codemirror_mode": {
    "name": "ipython",
    "version": 3
   },
   "file_extension": ".py",
   "mimetype": "text/x-python",
   "name": "python",
   "nbconvert_exporter": "python",
   "pygments_lexer": "ipython3",
   "version": "3.11.4"
  }
 },
 "nbformat": 4,
 "nbformat_minor": 5
}

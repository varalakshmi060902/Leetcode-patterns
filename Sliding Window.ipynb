{
 "cells": [
  {
   "cell_type": "markdown",
   "id": "0744bbd5",
   "metadata": {},
   "source": [
    "### Best Time to Buy and Sell Stock\n",
    "\n",
    "You are given an integer array prices where prices[i] is the price of NeetCoin on the ith day.\n",
    "\n",
    "You may choose a single day to buy one NeetCoin and choose a different day in the future to sell it.\n",
    "\n",
    "Return the maximum profit you can achieve. You may choose to not make any transactions, in which case the profit would be 0."
   ]
  },
  {
   "cell_type": "code",
   "execution_count": null,
   "id": "415b5ea2",
   "metadata": {},
   "outputs": [],
   "source": [
    "class Solution:\n",
    "    def maxProfit(self, prices: List[int]) -> int:\n",
    "        if len(prices)==1:\n",
    "            return 0\n",
    "        res=0\n",
    "        for i in range(1,len(prices)):\n",
    "            mini=min(prices[:i])\n",
    "            maxi=max(prices[i:])\n",
    "            profit=maxi-mini\n",
    "            res=max(profit,res)\n",
    "        return res"
   ]
  },
  {
   "cell_type": "markdown",
   "id": "c283a96d",
   "metadata": {},
   "source": [
    "### Longest Substring Without Repeating Characters\n",
    "\n",
    "Given a string s, find the length of the longest substring without duplicate characters.\n",
    "\n",
    "A substring is a contiguous sequence of characters within a string."
   ]
  },
  {
   "cell_type": "code",
   "execution_count": null,
   "id": "717a3f3b",
   "metadata": {},
   "outputs": [],
   "source": [
    "class Solution:\n",
    "    def lengthOfLongestSubstring(self, s: str) -> int:\n",
    "        if len(s)==0:\n",
    "            return 0\n",
    "        if len(s)==1:\n",
    "            return 1\n",
    "        j=0\n",
    "        re=1\n",
    "        for i in range(1,len(s)):\n",
    "            t=s[j:i]\n",
    "            if s[i] in t:\n",
    "                j=j+t.index(s[i])+1\n",
    "            else:\n",
    "                re=max(re,len(s[j:i+1]))\n",
    "        return re\n"
   ]
  },
  {
   "cell_type": "markdown",
   "id": "8ea9b652",
   "metadata": {},
   "source": [
    "### Longest Repeating Character Replacement\n",
    "\n",
    "You are given a string s consisting of only uppercase english characters and an integer k. You can choose up to k characters of the string and replace them with any other uppercase English character.\n",
    "\n",
    "After performing at most k replacements, return the length of the longest substring which contains only one distinct character."
   ]
  },
  {
   "cell_type": "code",
   "execution_count": null,
   "id": "c71cec3c",
   "metadata": {},
   "outputs": [],
   "source": [
    "class Solution:\n",
    "    def characterReplacement(self, s: str, k: int) -> int:\n",
    "        count = {}\n",
    "        res = 0\n",
    "        \n",
    "        l = 0\n",
    "        maxf = 0\n",
    "        for r in range(len(s)):\n",
    "            count[s[r]] = 1 + count.get(s[r], 0)\n",
    "            maxf = max(maxf, count[s[r]])\n",
    "\n",
    "            while (r - l + 1) - maxf > k:\n",
    "                count[s[l]] -= 1\n",
    "                l += 1\n",
    "            res = max(res, r - l + 1)\n",
    "\n",
    "        return res"
   ]
  },
  {
   "cell_type": "markdown",
   "id": "457899ab",
   "metadata": {},
   "source": [
    "### Permutation in String\n",
    "\n",
    "You are given two strings s1 and s2.\n",
    "\n",
    "Return true if s2 contains a permutation of s1, or false otherwise. That means if a permutation of s1 exists as a substring of s2, then return true.\n",
    "\n",
    "Both strings only contain lowercase letters."
   ]
  },
  {
   "cell_type": "code",
   "execution_count": null,
   "id": "57b05e7c",
   "metadata": {},
   "outputs": [],
   "source": [
    "class Solution:\n",
    "    def checkInclusion(self, s1: str, s2: str) -> bool:\n",
    "        if len(s1)>len(s2):\n",
    "            return False\n",
    "        list_s1=[]\n",
    "        for i in s1:\n",
    "            list_s1+=[i]\n",
    "        list_s1=sorted(list_s1)\n",
    "        t=len(s1)\n",
    "        s=len(s2)\n",
    "        list_s2=[]\n",
    "        for i in s2[:t]:\n",
    "            list_s2+=[i]\n",
    "        for i in range(t,s+1):\n",
    "            c=sorted(list_s2)\n",
    "            if list_s1==c:\n",
    "                return True\n",
    "            if i!=s:\n",
    "                list_s2=list_s2[1:]+[s2[i]]\n",
    "        return False"
   ]
  },
  {
   "cell_type": "markdown",
   "id": "8fa201e3",
   "metadata": {},
   "source": [
    "### Minimum Window Substring\n",
    "\n",
    "Given two strings s and t, return the shortest substring of s such that every character in t, including duplicates, is present in the substring. If such a substring does not exist, return an empty string \"\".\n",
    "\n",
    "You may assume that the correct output is always unique."
   ]
  },
  {
   "cell_type": "code",
   "execution_count": null,
   "id": "bab83edc",
   "metadata": {},
   "outputs": [],
   "source": [
    "class Solution:\n",
    "    def minWindow(self, s: str, t: str) -> str:\n",
    "        if t == \"\":\n",
    "            return \"\"\n",
    "\n",
    "        countT, window = {}, {}\n",
    "        for c in t:\n",
    "            countT[c] = 1 + countT.get(c, 0)\n",
    "\n",
    "        have, need = 0, len(countT)\n",
    "        res, resLen = [-1, -1], len(s)+1\n",
    "        l = 0\n",
    "        for r in range(len(s)):\n",
    "            window[s[r]] = 1 + window.get(s[r], 0)\n",
    "            if s[r] in countT and window[s[r]] == countT[s[r]]:\n",
    "                have += 1\n",
    "            while have == need:\n",
    "                if (r - l + 1) < resLen:\n",
    "                    res = [l, r]\n",
    "                    resLen = r - l + 1\n",
    "                    \n",
    "                window[s[l]] -= 1\n",
    "                if s[l] in countT and window[s[l]] < countT[s[l]]:\n",
    "                    have -= 1\n",
    "                l += 1\n",
    "        l, r = res\n",
    "        return s[l : r + 1] if resLen != len(s)+1 else \"\""
   ]
  },
  {
   "cell_type": "markdown",
   "id": "c0e7ab27",
   "metadata": {},
   "source": [
    "### Sliding Window Maximum\n",
    "\n",
    "You are given an array of integers nums and an integer k. There is a sliding window of size k that starts at the left edge of the array. The window slides one position to the right until it reaches the right edge of the array.\n",
    "\n",
    "Return a list that contains the maximum element in the window at each step."
   ]
  },
  {
   "cell_type": "code",
   "execution_count": null,
   "id": "76810239",
   "metadata": {},
   "outputs": [],
   "source": [
    "## Naive Solution\n",
    "class Solution:\n",
    "    def maxSlidingWindow(self, nums: List[int], k: int) -> List[int]:\n",
    "        res=[]\n",
    "        for i in range(len(nums)-k+1):\n",
    "            res.append(max(nums[i:i+k]))\n",
    "        return res"
   ]
  },
  {
   "cell_type": "code",
   "execution_count": null,
   "id": "84fc5f53",
   "metadata": {},
   "outputs": [],
   "source": [
    "class Solution:\n",
    "    def maxSlidingWindow(self, nums: List[int], k: int) -> List[int]:\n",
    "        n = len(nums)\n",
    "        leftMax = [0] * n\n",
    "        rightMax = [0] * n\n",
    "\n",
    "        leftMax[0] = nums[0]\n",
    "        rightMax[n - 1] = nums[n - 1]\n",
    "\n",
    "        for i in range(1, n):\n",
    "            if i % k == 0:\n",
    "                leftMax[i] = nums[i]\n",
    "            else:\n",
    "                leftMax[i] = max(leftMax[i - 1], nums[i])\n",
    "\n",
    "            if (n - 1 - i) % k == 0:\n",
    "                rightMax[n - 1 - i] = nums[n - 1 - i]\n",
    "            else:\n",
    "                rightMax[n - 1 - i] = max(rightMax[n - i], nums[n - 1 - i])\n",
    "\n",
    "        output = [0] * (n - k + 1)\n",
    "\n",
    "        for i in range(n - k + 1):\n",
    "            output[i] = max(leftMax[i + k - 1], rightMax[i])\n",
    "\n",
    "        return output"
   ]
  }
 ],
 "metadata": {
  "kernelspec": {
   "display_name": "Python 3 (ipykernel)",
   "language": "python",
   "name": "python3"
  },
  "language_info": {
   "codemirror_mode": {
    "name": "ipython",
    "version": 3
   },
   "file_extension": ".py",
   "mimetype": "text/x-python",
   "name": "python",
   "nbconvert_exporter": "python",
   "pygments_lexer": "ipython3",
   "version": "3.11.4"
  }
 },
 "nbformat": 4,
 "nbformat_minor": 5
}

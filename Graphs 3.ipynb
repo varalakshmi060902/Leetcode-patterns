{
 "cells": [
  {
   "cell_type": "markdown",
   "id": "a580fbb0",
   "metadata": {},
   "source": [
    "### Course Schedule II\n",
    "\n",
    "You are given an array prerequisites where prerequisites[i] = [a, b] indicates that you must take course b first if you want to take course a.\n",
    "\n",
    "For example, the pair [0, 1], indicates that to take course 0 you have to first take course 1.\n",
    "There are a total of numCourses courses you are required to take, labeled from 0 to numCourses - 1.\n",
    "\n",
    "Return a valid ordering of courses you can take to finish all courses. If there are many valid answers, return any of them. If it's not possible to finish all courses, return an empty array."
   ]
  },
  {
   "cell_type": "code",
   "execution_count": null,
   "id": "10d0a5ad",
   "metadata": {},
   "outputs": [],
   "source": [
    "class Solution:\n",
    "    def findOrder(self, numCourses: int, prerequisites: List[List[int]]) -> List[int]:\n",
    "        preMap={i:[] for i in range(numCourses)}\n",
    "        for crs,pre in prerequisites:\n",
    "            preMap[crs].append(pre)\n",
    "        output=[]\n",
    "        cycle,visit=set(),set()\n",
    "        def dfs(crs):\n",
    "            if crs in cycle:\n",
    "                return False\n",
    "            if crs in visit:\n",
    "                return True\n",
    "            cycle.add(crs)\n",
    "            for pre in preMap[crs]:\n",
    "                if not dfs(pre):\n",
    "                    return False\n",
    "            cycle.remove(crs)\n",
    "            visit.add(crs)\n",
    "            output.append(crs)\n",
    "            return True\n",
    "        for i in range(numCourses):\n",
    "            if not dfs(i):\n",
    "                return []\n",
    "        return output"
   ]
  },
  {
   "cell_type": "markdown",
   "id": "f59ec13a",
   "metadata": {},
   "source": [
    "### Graph Valid Tree\n",
    "\n",
    "Given n nodes labeled from 0 to n - 1 and a list of undirected edges (each edge is a pair of nodes), write a function to check whether these edges make up a valid tree."
   ]
  },
  {
   "cell_type": "code",
   "execution_count": null,
   "id": "b3d33f9a",
   "metadata": {},
   "outputs": [],
   "source": [
    "class Solution:\n",
    "    def validTree(self, n: int, edges: List[List[int]]) -> bool:\n",
    "        if len(edges)<n-1:\n",
    "            return False\n",
    "        adj=[[] for _ in range(n)]\n",
    "        for u,v in edges:\n",
    "            adj[u].append(v)\n",
    "            adj[v].append(u)\n",
    "        visit=set()\n",
    "        def dfs(a,b):\n",
    "            if a in visit:\n",
    "                return False\n",
    "            visit.add(a)\n",
    "            for i in adj[a]:\n",
    "                if i==b:\n",
    "                    continue\n",
    "                if not dfs(i,a):\n",
    "                    return False\n",
    "            return True\n",
    "        return dfs(0,-1) and len(visit)==n"
   ]
  },
  {
   "cell_type": "markdown",
   "id": "b497dd39",
   "metadata": {},
   "source": [
    "### Number of Connected Components in an Undirected Graph\n",
    "\n",
    "There is an undirected graph with n nodes. There is also an edges array, where edges[i] = [a, b] means that there is an edge between node a and node b in the graph.\n",
    "\n",
    "The nodes are numbered from 0 to n - 1.\n",
    "\n",
    "Return the total number of connected components in that graph."
   ]
  },
  {
   "cell_type": "code",
   "execution_count": null,
   "id": "6e27cba4",
   "metadata": {},
   "outputs": [],
   "source": [
    "class Solution:\n",
    "    def countComponents(self, n: int, edges: List[List[int]]) -> int:\n",
    "        parent=list(range(n))\n",
    "        rank=[1]*n\n",
    "        def find(n):\n",
    "            cur=n\n",
    "            while cur!=parent[cur]:\n",
    "                parent[cur]=parent[parent[cur]]\n",
    "                cur=parent[cur]\n",
    "            return cur\n",
    "        def union(u,v):\n",
    "            pu,pv=find(u),find(v)\n",
    "            if pu==pv:\n",
    "                return False\n",
    "            if rank[pv]>rank[pu]:\n",
    "                pu,pv=pv,pu\n",
    "            parent[pv]=pu\n",
    "            rank[pu]+=rank[pv]\n",
    "            return True\n",
    "        res=n\n",
    "        for u,v in edges:\n",
    "            if union(u,v):\n",
    "                res-=1\n",
    "        return res"
   ]
  },
  {
   "cell_type": "markdown",
   "id": "6894864f",
   "metadata": {},
   "source": [
    "### Redundant Connection\n",
    "\n",
    "You are given a connected undirected graph with n nodes labeled from 1 to n. Initially, it contained no cycles and consisted of n-1 edges.\n",
    "\n",
    "We have now added one additional edge to the graph. The edge has two different vertices chosen from 1 to n, and was not an edge that previously existed in the graph.\n",
    "\n",
    "The graph is represented as an array edges of length n where edges[i] = [ai, bi] represents an edge between nodes ai and bi in the graph.\n",
    "\n",
    "Return an edge that can be removed so that the graph is still a connected non-cyclical graph. If there are multiple answers, return the edge that appears last in the input edges."
   ]
  },
  {
   "cell_type": "code",
   "execution_count": null,
   "id": "06c9bf03",
   "metadata": {},
   "outputs": [],
   "source": [
    "class Solution:\n",
    "    def findRedundantConnection(self, edges: List[List[int]]) -> List[int]:\n",
    "        n=len(edges)\n",
    "        parent=[i for i in range(n)]\n",
    "        rank=[1]*n\n",
    "        def find(n1):\n",
    "            res=n1\n",
    "            while res!=parent[res]:\n",
    "                parent[res]=parent[parent[res]]\n",
    "                res=parent[res]\n",
    "            return res\n",
    "        def union(n1,n2):\n",
    "            p1,p2=find(n1),find(n2)\n",
    "            if p1==p2:\n",
    "                return False\n",
    "            if rank[p2]>rank[p1]:\n",
    "                parent[p1]=p2\n",
    "                rank[p2]+=rank[p1]\n",
    "            else:\n",
    "                parent[p2]=p1\n",
    "                rank[p1]+=rank[p2]\n",
    "            return True\n",
    "        for n1,n2 in edges:\n",
    "            if not union(n1-1,n2-1):\n",
    "                return [n1,n2]"
   ]
  },
  {
   "cell_type": "markdown",
   "id": "3af704ab",
   "metadata": {},
   "source": [
    "### Word Ladder\n",
    "\n",
    "You are given two words, beginWord and endWord, and also a list of words wordList. All of the given words are of the same length, consisting of lowercase English letters, and are all distinct.\n",
    "\n",
    "Your goal is to transform beginWord into endWord by following the rules:\n",
    "\n",
    "You may transform beginWord to any word within wordList, provided that at exactly one position the words have a different character, and the rest of the positions have the same characters.\n",
    "You may repeat the previous step with the new word that you obtain, and you may do this as many times as needed.\n",
    "Return the minimum number of words within the transformation sequence needed to obtain the endWord, or 0 if no such sequence exists."
   ]
  },
  {
   "cell_type": "code",
   "execution_count": null,
   "id": "345869e1",
   "metadata": {},
   "outputs": [],
   "source": [
    "class Solution:\n",
    "    def ladderLength(self, beginWord: str, endWord: str, wordList: List[str]) -> int:\n",
    "        if endWord not in wordList:\n",
    "            return 0\n",
    "        nei=collections.defaultdict(list)\n",
    "        wordList.append(beginWord)\n",
    "        for word in wordList:\n",
    "            for j in range(len(word)):\n",
    "                pattern=word[:j]+\"*\"+word[j+1:]\n",
    "                nei [pattern].append(word)\n",
    "        visit=set([beginWord])\n",
    "        q=deque([beginWord])\n",
    "        res=1\n",
    "        while q:\n",
    "            for i in range(len(q)):\n",
    "                word=q.popleft()\n",
    "                if word==endWord:\n",
    "                    return res\n",
    "                for j in range(len(word)):\n",
    "                    pattern=word[:j]+\"*\"+word[j+1:]\n",
    "                    for neiWord in nei[pattern]:\n",
    "                        if neiWord not in visit:\n",
    "                            visit.add(neiWord)\n",
    "                            q.append(neiWord)\n",
    "            res+=1\n",
    "        return 0"
   ]
  }
 ],
 "metadata": {
  "kernelspec": {
   "display_name": "Python 3 (ipykernel)",
   "language": "python",
   "name": "python3"
  },
  "language_info": {
   "codemirror_mode": {
    "name": "ipython",
    "version": 3
   },
   "file_extension": ".py",
   "mimetype": "text/x-python",
   "name": "python",
   "nbconvert_exporter": "python",
   "pygments_lexer": "ipython3",
   "version": "3.11.4"
  }
 },
 "nbformat": 4,
 "nbformat_minor": 5
}

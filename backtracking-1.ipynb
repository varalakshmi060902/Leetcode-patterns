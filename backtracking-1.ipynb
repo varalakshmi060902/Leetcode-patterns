{
 "cells": [
  {
   "cell_type": "markdown",
   "id": "31ea5e21",
   "metadata": {},
   "source": [
    "### Subsets\n",
    "\n",
    "Given an array nums of unique integers, return all possible subsets of nums.\n",
    "\n",
    "The solution set must not contain duplicate subsets. You may return the solution in any order."
   ]
  },
  {
   "cell_type": "code",
   "execution_count": null,
   "id": "0d9f9772",
   "metadata": {},
   "outputs": [],
   "source": [
    "class Solution:\n",
    "    def subsets(self, nums: List[int]) -> List[List[int]]:\n",
    "        output=[[]]\n",
    "        for num in nums:\n",
    "            s=[]\n",
    "            for c in output:\n",
    "                t=c.copy()\n",
    "                t.append(num)\n",
    "                s.append(t)\n",
    "            for c in s:\n",
    "                output.append(c)\n",
    "        return output"
   ]
  },
  {
   "cell_type": "markdown",
   "id": "daddf1f5",
   "metadata": {},
   "source": [
    "### Combination Sum\n",
    " \n",
    "You are given an array of distinct integers nums and a target integer target. Your task is to return a list of all unique combinations of nums where the chosen numbers sum to target.\n",
    "\n",
    "The same number may be chosen from nums an unlimited number of times. Two combinations are the same if the frequency of each of the chosen numbers is the same, otherwise they are different.\n",
    "\n",
    "You may return the combinations in any order and the order of the numbers in each combination can be in any order."
   ]
  },
  {
   "cell_type": "code",
   "execution_count": null,
   "id": "e192242a",
   "metadata": {},
   "outputs": [],
   "source": [
    "class Solution:\n",
    "    def combinationSum(self, nums: List[int], target: int) -> List[List[int]]:\n",
    "        output=[]\n",
    "        def b(start,list_again, target_again):\n",
    "            if target_again==0:\n",
    "                output.append(list(list_again))\n",
    "                return\n",
    "            if target_again<0:\n",
    "                return\n",
    "\n",
    "            for i in range(start,len(nums)):\n",
    "                list_again.append(nums[i])\n",
    "                b(i,list_again,target_again-nums[i])\n",
    "                list_again.pop()\n",
    "        b(0,[],target)\n",
    "        return output"
   ]
  },
  {
   "cell_type": "markdown",
   "id": "34cd4df3",
   "metadata": {},
   "source": [
    "### Combination Sum II\n",
    "\n",
    "You are given an array of integers candidates, which may contain duplicates, and a target integer target. Your task is to return a list of all unique combinations of candidates where the chosen numbers sum to target.\n",
    "\n",
    "Each element from candidates may be chosen at most once within a combination. The solution set must not contain duplicate combinations.\n",
    "\n",
    "You may return the combinations in any order and the order of the numbers in each combination can be in any order."
   ]
  },
  {
   "cell_type": "code",
   "execution_count": null,
   "id": "6642ca35",
   "metadata": {},
   "outputs": [],
   "source": [
    "class Solution:\n",
    "    def combinationSum2(self, candidates: List[int], target: int) -> List[List[int]]:\n",
    "        res = []\n",
    "        candidates.sort()\n",
    "        def dfs(i, cur, total):\n",
    "            if total == target:\n",
    "                res.append(cur.copy())\n",
    "                return\n",
    "            if total > target or i == len(candidates):\n",
    "                return       \n",
    "            cur.append(candidates[i])\n",
    "            dfs(i + 1, cur, total + candidates[i])\n",
    "            cur.pop()     \n",
    "            while i + 1 < len(candidates) and candidates[i] == candidates[i+1]:\n",
    "                i += 1\n",
    "            dfs(i + 1, cur, total)      \n",
    "        dfs(0, [], 0)\n",
    "        return res"
   ]
  },
  {
   "cell_type": "markdown",
   "id": "8bcd3a77",
   "metadata": {},
   "source": [
    "### Permutations\n",
    " \n",
    "Given an array nums of unique integers, return all the possible permutations. You may return the answer in any order."
   ]
  },
  {
   "cell_type": "code",
   "execution_count": null,
   "id": "982611d5",
   "metadata": {},
   "outputs": [],
   "source": [
    "class Solution:\n",
    "    def permute(self, nums: List[int]) -> List[List[int]]:\n",
    "        output=[]\n",
    "        def b(list1,list2):\n",
    "            if len(list1)==len(nums):\n",
    "                output.append(list(list1))\n",
    "                return\n",
    "            for i in range(len(list2)):\n",
    "                list1.append(list2[i])\n",
    "                c=list2.copy()\n",
    "                c=c[0:i]+c[i+1:]\n",
    "                b(list1,c)\n",
    "                list1.pop()\n",
    "        b([],nums)\n",
    "        return output"
   ]
  }
 ],
 "metadata": {
  "kernelspec": {
   "display_name": "Python 3 (ipykernel)",
   "language": "python",
   "name": "python3"
  },
  "language_info": {
   "codemirror_mode": {
    "name": "ipython",
    "version": 3
   },
   "file_extension": ".py",
   "mimetype": "text/x-python",
   "name": "python",
   "nbconvert_exporter": "python",
   "pygments_lexer": "ipython3",
   "version": "3.11.4"
  }
 },
 "nbformat": 4,
 "nbformat_minor": 5
}

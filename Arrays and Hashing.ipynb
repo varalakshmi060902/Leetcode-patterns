{
 "cells": [
  {
   "cell_type": "markdown",
   "id": "59d73551",
   "metadata": {},
   "source": [
    "### Contains Duplicate\n",
    "\n",
    "Given an integer array nums, return true if any value appears more than once in the array, otherwise return false."
   ]
  },
  {
   "cell_type": "code",
   "execution_count": null,
   "id": "3cb67a76",
   "metadata": {},
   "outputs": [],
   "source": [
    "class Solution:\n",
    "    def hasDuplicate(self, nums: List[int]) -> bool:\n",
    "        list_set=set(nums)\n",
    "        if len(list_set)==len(nums):\n",
    "            return False\n",
    "        return True"
   ]
  },
  {
   "cell_type": "markdown",
   "id": "b2aeb4a4",
   "metadata": {},
   "source": [
    "### Valid Anagram\n",
    "\n",
    "Given two strings s and t, return true if the two strings are anagrams of each other, otherwise return false.\n",
    "\n",
    "An anagram is a string that contains the exact same characters as another string, but the order of the characters can be different."
   ]
  },
  {
   "cell_type": "code",
   "execution_count": 4,
   "id": "693dfb1e",
   "metadata": {},
   "outputs": [],
   "source": [
    "class Solution:\n",
    "    def isAnagram(self, s: str, t: str) -> bool:\n",
    "        if len(s)!=len(t):\n",
    "            return False\n",
    "        list_s=[]\n",
    "        list_t=[]\n",
    "        for i in s:\n",
    "            list_s+=[i]\n",
    "        for i in t:\n",
    "            list_t+=[i]\n",
    "        list_s=sorted(list_s)\n",
    "        list_t=sorted(list_t)\n",
    "        if list_s==list_t:\n",
    "            return True\n",
    "        return False"
   ]
  },
  {
   "cell_type": "markdown",
   "id": "2b95b5aa",
   "metadata": {},
   "source": [
    "### Two Sum\n",
    "\n",
    "Given an array of integers nums and an integer target, return the indices i and j such that nums[i] + nums[j] == target and i != j.\n",
    "\n",
    "You may assume that every input has exactly one pair of indices i and j that satisfy the condition.\n",
    "\n",
    "Return the answer with the smaller index first."
   ]
  },
  {
   "cell_type": "code",
   "execution_count": 5,
   "id": "81409013",
   "metadata": {},
   "outputs": [],
   "source": [
    "class Solution:\n",
    "    def twoSum(self, nums: List[int], target: int) -> List[int]:\n",
    "        for i in range(len(nums)):\n",
    "            for j in range(i+1,len(nums)):\n",
    "                if nums[i]+nums[j]==target:\n",
    "                    return [i,j]"
   ]
  },
  {
   "cell_type": "markdown",
   "id": "089b3335",
   "metadata": {},
   "source": [
    "### Group Anagrams\n",
    "\n",
    "Given an array of strings strs, group all anagrams together into sublists. You may return the output in any order.\n",
    "\n",
    "An anagram is a string that contains the exact same characters as another string, but the order of the characters can be different."
   ]
  },
  {
   "cell_type": "code",
   "execution_count": null,
   "id": "01278b90",
   "metadata": {},
   "outputs": [],
   "source": [
    "class Solution:\n",
    "    def groupAnagrams(self, strs: List[str]) -> List[List[str]]:\n",
    "        res = defaultdict(list)\n",
    "        for s in strs:\n",
    "            sortedS = ''.join(sorted(s))\n",
    "            res[sortedS].append(s)\n",
    "        return list(res.values())"
   ]
  },
  {
   "cell_type": "markdown",
   "id": "64fe2e16",
   "metadata": {},
   "source": [
    "### Top K Frequent Elements\n",
    "\n",
    "Given an integer array nums and an integer k, return the k most frequent elements within the array.\n",
    "\n",
    "The test cases are generated such that the answer is always unique.\n",
    "\n",
    "You may return the output in any order."
   ]
  },
  {
   "cell_type": "code",
   "execution_count": null,
   "id": "f6177a33",
   "metadata": {},
   "outputs": [],
   "source": [
    "class Solution:\n",
    "    def topKFrequent(self, nums: List[int], k: int) -> List[int]:\n",
    "        count={}\n",
    "        for num in nums:\n",
    "            count[num]=1+count.get(num,0)\n",
    "        arr = []\n",
    "        for num, cnt in count.items():\n",
    "            arr.append([cnt, num])\n",
    "        arr.sort()\n",
    "\n",
    "        res = []\n",
    "        while len(res) < k:\n",
    "            res.append(arr.pop()[1])\n",
    "        return res"
   ]
  },
  {
   "cell_type": "markdown",
   "id": "64218477",
   "metadata": {},
   "source": [
    "### Encode and Decode Strings\n",
    "Design an algorithm to encode a list of strings to a single string. The encoded string is then decoded back to the original list of strings."
   ]
  },
  {
   "cell_type": "code",
   "execution_count": null,
   "id": "1663a886",
   "metadata": {},
   "outputs": [],
   "source": [
    "class Solution:\n",
    "\n",
    "    def encode(self, strs: List[str]) -> str:\n",
    "        r=\"\"\n",
    "        for i in strs:\n",
    "            r=r+str(len(i))\n",
    "            r+=\"#\"\n",
    "            r+=i\n",
    "        return r\n",
    "\n",
    "    def decode(self, s: str) -> List[str]:\n",
    "        r=[]\n",
    "        i,strnum=0,\"\"\n",
    "        while i<len(s):\n",
    "            if s[i]==\"#\":\n",
    "                num=int(strnum)\n",
    "                r.append(s[i+1:i+num+1])\n",
    "                strnum=strnum[:0]\n",
    "                i=i+num+1\n",
    "            else:\n",
    "                strnum+=s[i]\n",
    "                i+=1\n",
    "        return r \n",
    "            "
   ]
  },
  {
   "cell_type": "markdown",
   "id": "deaa5217",
   "metadata": {},
   "source": [
    "### Products of Array Except Self\n",
    "\n",
    "Given an integer array nums, return an array output where output[i] is the product of all the elements of nums except nums[i].\n",
    "\n",
    "Each product is guaranteed to fit in a 32-bit integer.\n",
    "\n",
    "Follow-up: Could you solve it in O(n) time without using the division operation?"
   ]
  },
  {
   "cell_type": "code",
   "execution_count": null,
   "id": "0c0e1848",
   "metadata": {},
   "outputs": [],
   "source": [
    "class Solution:\n",
    "    def productExceptSelf(self, nums: List[int]) -> List[int]:\n",
    "        r=[]\n",
    "        prefix_array=[]\n",
    "        suffix_array=[]\n",
    "        prefix,suffix=1,1\n",
    "        for i in range(len(nums)-1):\n",
    "            prefix=prefix*nums[i]\n",
    "            prefix_array.append(prefix)\n",
    "        for i in range(len(nums)-1):\n",
    "            suffix=suffix*nums[len(nums)-1-i]\n",
    "            suffix_array.append(suffix)\n",
    "        suffix_array.reverse()\n",
    "        r.append(suffix_array[0])\n",
    "        for i in range(len(nums)-1):\n",
    "            if i==len(nums)-2:\n",
    "                r.append(prefix_array[i])\n",
    "            else:\n",
    "                r.append(prefix_array[i]*suffix_array[i+1])\n",
    "        return r"
   ]
  },
  {
   "cell_type": "markdown",
   "id": "eb0d669b",
   "metadata": {},
   "source": [
    "### Valid Sudoku\n",
    "You are given a a 9 x 9 Sudoku board board. A Sudoku board is valid if the following rules are followed:\n",
    "\n",
    "Each row must contain the digits 1-9 without duplicates.\n",
    "Each column must contain the digits 1-9 without duplicates.\n",
    "Each of the nine 3 x 3 sub-boxes of the grid must contain the digits 1-9 without duplicates.\n",
    "Return true if the Sudoku board is valid, otherwise return false\n",
    "\n",
    "Note: A board does not need to be full or be solvable to be valid."
   ]
  },
  {
   "cell_type": "code",
   "execution_count": null,
   "id": "bfbbd9d0",
   "metadata": {},
   "outputs": [],
   "source": [
    "class Solution:\n",
    "    def isValidSudoku(self, board: List[List[str]]) -> bool:\n",
    "        ##check in row:\n",
    "        for i in board:\n",
    "            seen=set()\n",
    "            for num in i:\n",
    "                if num==\".\":\n",
    "                    continue\n",
    "                if num in seen:\n",
    "                    return False\n",
    "                seen.add(num)\n",
    "        ##check in col:\n",
    "        for i in range(9):\n",
    "            seen=set()\n",
    "            for j in range(9):\n",
    "                if board[j][i]==\".\":\n",
    "                    continue\n",
    "                if board[j][i] in seen:\n",
    "                    return False\n",
    "                seen.add(board[j][i])\n",
    "        for square in range(9):\n",
    "            seen = set()\n",
    "            for i in range(3):\n",
    "                for j in range(3):\n",
    "                    row = (square//3) * 3 + i\n",
    "                    col = (square % 3) * 3 + j\n",
    "                    if board[row][col] == \".\":\n",
    "                        continue\n",
    "                    if board[row][col] in seen:\n",
    "                        return False\n",
    "                    seen.add(board[row][col])\n",
    "        return True"
   ]
  },
  {
   "cell_type": "markdown",
   "id": "f63f923d",
   "metadata": {},
   "source": [
    "### Longest Consecutive Sequence\n",
    "\n",
    "Given an array of integers nums, return the length of the longest consecutive sequence of elements that can be formed.\n",
    "\n",
    "A consecutive sequence is a sequence of elements in which each element is exactly 1 greater than the previous element. The elements do not have to be consecutive in the original array.\n",
    "\n",
    "You must write an algorithm that runs in O(n) time."
   ]
  },
  {
   "cell_type": "code",
   "execution_count": null,
   "id": "1f80a3d6",
   "metadata": {},
   "outputs": [],
   "source": [
    "class Solution:\n",
    "    def longestConsecutive(self, nums: List[int]) -> int:\n",
    "        if len(nums)==0:\n",
    "            return 0\n",
    "        ss=list(set(nums))\n",
    "        t=sorted(ss)\n",
    "        k=1\n",
    "        result=1\n",
    "        for i in range(len(t)-1):\n",
    "            if t[i]+1==t[i+1]:\n",
    "                k+=1\n",
    "            else:\n",
    "                k=1\n",
    "            result=max(result,k)\n",
    "        return result"
   ]
  }
 ],
 "metadata": {
  "kernelspec": {
   "display_name": "Python 3 (ipykernel)",
   "language": "python",
   "name": "python3"
  },
  "language_info": {
   "codemirror_mode": {
    "name": "ipython",
    "version": 3
   },
   "file_extension": ".py",
   "mimetype": "text/x-python",
   "name": "python",
   "nbconvert_exporter": "python",
   "pygments_lexer": "ipython3",
   "version": "3.11.4"
  }
 },
 "nbformat": 4,
 "nbformat_minor": 5
}

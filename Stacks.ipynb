{
 "cells": [
  {
   "cell_type": "markdown",
   "id": "ae89099c",
   "metadata": {},
   "source": [
    "### Valid Parentheses\n",
    "\n",
    "You are given a string s consisting of the following characters: '(', ')', '{', '}', '[' and ']'.\n",
    "\n",
    "The input string s is valid if and only if:\n",
    "\n",
    "Every open bracket is closed by the same type of close bracket.\n",
    "Open brackets are closed in the correct order.\n",
    "Every close bracket has a corresponding open bracket of the same type.\n",
    "Return true if s is a valid string, and false otherwise."
   ]
  },
  {
   "cell_type": "code",
   "execution_count": null,
   "id": "c97296ab",
   "metadata": {},
   "outputs": [],
   "source": [
    "class Solution:\n",
    "    def isValid(self, s: str) -> bool:\n",
    "        \n",
    "        stack=[]\n",
    "        o=['(','{','[']\n",
    "        \n",
    "        for i in s:\n",
    "            if i in o:\n",
    "                stack.append(i)\n",
    "            else:\n",
    "                if len(stack)==0:\n",
    "                    return False\n",
    "                if i==')' and stack[-1]=='(':\n",
    "                    stack.pop()\n",
    "                elif i=='}' and stack[-1]=='{':\n",
    "                    stack.pop()\n",
    "                elif i==']' and stack[-1]=='[':\n",
    "                    stack.pop()\n",
    "                else:\n",
    "                    return False\n",
    "        if len(stack)>0:\n",
    "            return False\n",
    "        else:\n",
    "            return True"
   ]
  },
  {
   "cell_type": "markdown",
   "id": "13944f28",
   "metadata": {},
   "source": [
    "### Minimum Stack\n",
    "\n",
    "Design a stack class that supports the push, pop, top, and getMin operations.\n",
    "\n",
    "MinStack() initializes the stack object.\n",
    "void push(int val) pushes the element val onto the stack.\n",
    "void pop() removes the element on the top of the stack.\n",
    "int top() gets the top element of the stack.\n",
    "int getMin() retrieves the minimum element in the stack.\n",
    "Each function should run in O(1) time."
   ]
  },
  {
   "cell_type": "code",
   "execution_count": null,
   "id": "2e89f478",
   "metadata": {},
   "outputs": [],
   "source": [
    "class MinStack:\n",
    "\n",
    "    def __init__(self):\n",
    "        self.stack=[]\n",
    "\n",
    "    def push(self, val: int) -> None:\n",
    "        self.stack.append(val)\n",
    "\n",
    "    def pop(self) -> None:\n",
    "        self.stack.pop()\n",
    "\n",
    "    def top(self) -> int:\n",
    "        return self.stack[-1]\n",
    "\n",
    "    def getMin(self) -> int:\n",
    "        return min(self.stack)\n"
   ]
  },
  {
   "cell_type": "markdown",
   "id": "8327b2a4",
   "metadata": {},
   "source": [
    "### Evaluate Reverse Polish Notation\n",
    "\n",
    "You are given an array of strings tokens that represents a valid arithmetic expression in Reverse Polish Notation.\n",
    "\n",
    "Return the integer that represents the evaluation of the expression.\n",
    "\n",
    "The operands may be integers or the results of other operations.\n",
    "The operators include '+', '-', '*', and '/'.\n",
    "Assume that division between integers always truncates toward zero."
   ]
  },
  {
   "cell_type": "code",
   "execution_count": null,
   "id": "662b7c96",
   "metadata": {},
   "outputs": [],
   "source": [
    "class Solution:\n",
    "    def evalRPN(self, tokens: List[str]) -> int:\n",
    "        k=len(tokens)\n",
    "        stack=[]\n",
    "        operand=['+','-','*','/']\n",
    "        if k==1:\n",
    "            return int(tokens[0])\n",
    "        for i in tokens:\n",
    "            if i in operand:\n",
    "                a=stack.pop()\n",
    "                b=stack.pop()\n",
    "                if i=='+':\n",
    "                    stack.append(b+a)\n",
    "                if i=='-':\n",
    "                    stack.append(b-a)\n",
    "                if i=='*':\n",
    "                    stack.append(b*a)\n",
    "                if i=='/':\n",
    "                    stack.append(int(b/a))\n",
    "            else:\n",
    "                stack.append(int(i))\n",
    "        return int(stack.pop())"
   ]
  },
  {
   "cell_type": "markdown",
   "id": "037ce0d1",
   "metadata": {},
   "source": [
    "### Generate Parentheses\n",
    "\n",
    "You are given an integer n. Return all well-formed parentheses strings that you can generate with n pairs of parentheses."
   ]
  },
  {
   "cell_type": "code",
   "execution_count": null,
   "id": "8737ebd0",
   "metadata": {},
   "outputs": [],
   "source": [
    "class Solution:\n",
    "    def generateParenthesis(self, n: int) -> List[str]:\n",
    "        stack = []\n",
    "        res = []\n",
    "        def b(o,c):\n",
    "            if o==n and c==n:\n",
    "                    res.append(\"\".join(stack))\n",
    "                    return\n",
    "            if o<n:\n",
    "                stack.append(\"(\")\n",
    "                b(o+1,c)\n",
    "                stack.pop()\n",
    "            if c<n and o>c:\n",
    "                stack.append(\")\")\n",
    "                b(o,c+1)\n",
    "                stack.pop()\n",
    "        b(0,0)\n",
    "        return res"
   ]
  },
  {
   "cell_type": "markdown",
   "id": "906f9a87",
   "metadata": {},
   "source": [
    "### Daily Temperatures\n",
    " \n",
    "You are given an array of integers temperatures where temperatures[i] represents the daily temperatures on the ith day.\n",
    "\n",
    "Return an array result where result[i] is the number of days after the ith day before a warmer temperature appears on a future day. If there is no day in the future where a warmer temperature will appear for the ith day, set result[i] to 0 instead."
   ]
  },
  {
   "cell_type": "code",
   "execution_count": null,
   "id": "f9255bde",
   "metadata": {},
   "outputs": [],
   "source": [
    "class Solution:\n",
    "    def dailyTemperatures(self, temperatures: List[int]) -> List[int]:\n",
    "        res=[0]*len(temperatures)\n",
    "        stack=[]\n",
    "        for i,t in enumerate(temperatures):\n",
    "            while stack and t>stack[-1][0]:\n",
    "                stackT,stackInd=stack.pop()\n",
    "                res[stackInd]=i-stackInd\n",
    "            stack.append([t,i])\n",
    "        return res"
   ]
  },
  {
   "cell_type": "markdown",
   "id": "a8d62ee8",
   "metadata": {},
   "source": [
    "### Car Fleet\n",
    "\n",
    "There are n cars traveling to the same destination on a one-lane highway.\n",
    "\n",
    "You are given two arrays of integers position and speed, both of length n.\n",
    "\n",
    "position[i] is the position of the ith car (in miles)\n",
    "speed[i] is the speed of the ith car (in miles per hour)\n",
    "The destination is at position target miles.\n",
    "\n",
    "A car can not pass another car ahead of it. It can only catch up to another car and then drive at the same speed as the car ahead of it.\n",
    "\n",
    "A car fleet is a non-empty set of cars driving at the same position and same speed. A single car is also considered a car fleet.\n",
    "\n",
    "If a car catches up to a car fleet the moment the fleet reaches the destination, then the car is considered to be part of the fleet.\n",
    "\n",
    "Return the number of different car fleets that will arrive at the destination."
   ]
  },
  {
   "cell_type": "code",
   "execution_count": null,
   "id": "0620c910",
   "metadata": {},
   "outputs": [],
   "source": [
    "class Solution:\n",
    "    def carFleet(self, target: int, position: List[int], speed: List[int]) -> int:\n",
    "        pair = [(p, s) for p, s in zip(position, speed)]\n",
    "        pair.sort(reverse=True)\n",
    "        stack = []\n",
    "        for p, s in pair: \n",
    "            stack.append((target - p) / s)\n",
    "            if len(stack) >= 2 and stack[-1] <= stack[-2]:\n",
    "                stack.pop()\n",
    "        return len(stack)"
   ]
  },
  {
   "cell_type": "markdown",
   "id": "e0439c4e",
   "metadata": {},
   "source": [
    "### Largest Rectangle In Histogram\n",
    "\n",
    "You are given an array of integers heights where heights[i] represents the height of a bar. The width of each bar is 1.\n",
    "\n",
    "Return the area of the largest rectangle that can be formed among the bars.\n",
    "\n",
    "Note: This chart is known as a histogram."
   ]
  },
  {
   "cell_type": "code",
   "execution_count": null,
   "id": "0e1c3aab",
   "metadata": {},
   "outputs": [],
   "source": [
    "class Solution:\n",
    "    def largestRectangleArea(self, heights: List[int]) -> int:\n",
    "        maxu=0\n",
    "        stack=[]\n",
    "        for i,h in enumerate(heights):\n",
    "            start=i\n",
    "            while stack and stack[-1][1]>=h:\n",
    "                index,height=stack.pop()\n",
    "                maxu=max(maxu,height*(i-index))\n",
    "                start=index\n",
    "            stack.append([start,h])\n",
    "        for i,h in stack:\n",
    "            maxu=max(maxu,h*(len(heights)-i))\n",
    "        return maxu\n"
   ]
  }
 ],
 "metadata": {
  "kernelspec": {
   "display_name": "Python 3 (ipykernel)",
   "language": "python",
   "name": "python3"
  },
  "language_info": {
   "codemirror_mode": {
    "name": "ipython",
    "version": 3
   },
   "file_extension": ".py",
   "mimetype": "text/x-python",
   "name": "python",
   "nbconvert_exporter": "python",
   "pygments_lexer": "ipython3",
   "version": "3.11.4"
  }
 },
 "nbformat": 4,
 "nbformat_minor": 5
}

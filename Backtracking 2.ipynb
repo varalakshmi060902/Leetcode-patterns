{
 "cells": [
  {
   "cell_type": "markdown",
   "id": "5375b3f8",
   "metadata": {},
   "source": [
    "### Subsets II\n",
    "You are given an array nums of integers, which may contain duplicates. Return all possible subsets.\n",
    "\n",
    "The solution must not contain duplicate subsets. You may return the solution in any order."
   ]
  },
  {
   "cell_type": "code",
   "execution_count": null,
   "id": "871daa0e",
   "metadata": {},
   "outputs": [],
   "source": [
    "class Solution:\n",
    "    def subsetsWithDup(self, nums: List[int]) -> List[List[int]]:\n",
    "        nums.sort()\n",
    "        res = []\n",
    "        def backtrack(i, subset):\n",
    "            res.append(subset[::])\n",
    "\n",
    "            for j in range(i, len(nums)):\n",
    "                if j > i and nums[j] == nums[j - 1]:\n",
    "                    continue\n",
    "                subset.append(nums[j])\n",
    "                backtrack(j + 1, subset)\n",
    "                subset.pop()\n",
    "\n",
    "        backtrack(0, [])\n",
    "        return res"
   ]
  },
  {
   "cell_type": "markdown",
   "id": "078ff203",
   "metadata": {},
   "source": [
    "### Word Search\n",
    "\n",
    "Given a 2-D grid of characters board and a string word, return true if the word is present in the grid, otherwise return false.\n",
    "\n",
    "For the word to be present it must be possible to form it with a path in the board with horizontally or vertically neighboring cells. The same cell may not be used more than once in a word."
   ]
  },
  {
   "cell_type": "code",
   "execution_count": null,
   "id": "d4581866",
   "metadata": {},
   "outputs": [],
   "source": [
    "class Solution:\n",
    "    def exist(self, board: List[List[str]], word: str) -> bool:\n",
    "        rows=len(board)\n",
    "        cols=len(board[0])\n",
    "        visited=[[0 for _ in range(cols)] for _ in range(rows)]\n",
    "        \n",
    "        def b(r,c,i):\n",
    "            if i==len(word):\n",
    "                return True  \n",
    "            if (r<0 or c<0 or r>=rows or c>=cols or word[i]!=board[r][c] or visited[r][c]):\n",
    "                return False\n",
    "            visited[r][c]=1\n",
    "            ans=(b(r+1,c,i+1) or \n",
    "                 b(r-1,c,i+1) or\n",
    "                 b(r,c-1,i+1) or\n",
    "                 b(r,c+1,i+1))\n",
    "            visited[r][c]=0\n",
    "            return ans\n",
    "        for i in range(rows):\n",
    "            for j in range(cols):\n",
    "                if b(i,j,0):\n",
    "                    return True\n",
    "        return False"
   ]
  },
  {
   "cell_type": "markdown",
   "id": "b3f8e378",
   "metadata": {},
   "source": [
    "### Palindrome Partitioning\n",
    "\n",
    "Given a string s, split s into substrings where every substring is a palindrome. Return all possible lists of palindromic substrings.\n",
    "\n",
    "You may return the solution in any order."
   ]
  },
  {
   "cell_type": "code",
   "execution_count": null,
   "id": "b046c6a4",
   "metadata": {},
   "outputs": [],
   "source": [
    "class Solution:\n",
    "    def partition(self, s: str) -> List[List[str]]:\n",
    "        res, part = [], []\n",
    "\n",
    "        def dfs(j, i):\n",
    "            if i >= len(s):\n",
    "                if i == j:\n",
    "                    res.append(part.copy())\n",
    "                return\n",
    "            \n",
    "            if self.isPali(s, j, i):\n",
    "                part.append(s[j : i + 1])\n",
    "                dfs(i + 1, i + 1)\n",
    "                part.pop()\n",
    "            \n",
    "            dfs(j, i + 1)\n",
    "        \n",
    "        dfs(0, 0)\n",
    "        return res\n",
    "\n",
    "    def isPali(self, s, l, r):\n",
    "        while l < r:\n",
    "            if s[l] != s[r]:\n",
    "                return False\n",
    "            l, r = l + 1, r - 1\n",
    "        return True\n"
   ]
  },
  {
   "cell_type": "markdown",
   "id": "a0e5dd41",
   "metadata": {},
   "source": [
    "### Letter Combinations of a Phone Number\n",
    " \n",
    "You are given a string digits made up of digits from 2 through 9 inclusive.\n",
    "\n",
    "Each digit (not including 1) is mapped to a set of characters as shown below:\n",
    "\n",
    "A digit could represent any one of the characters it maps to.\n",
    "\n",
    "Return all possible letter combinations that digits could represent. You may return the answer in any order."
   ]
  },
  {
   "cell_type": "code",
   "execution_count": null,
   "id": "258f2044",
   "metadata": {},
   "outputs": [],
   "source": [
    "class Solution:\n",
    "    def letterCombinations(self, digits: str) -> List[str]:\n",
    "        if len(digits)==0:\n",
    "            return []\n",
    "        s=[['a','b','c'],['d','e','f'],['g','h','i'],['j','k','l'],['m','n','o'],['p','q','r','s'],['t','u','v'],['w','x','y','z']]\n",
    "        res=[\"\"]\n",
    "        for k in digits:\n",
    "            c=[]\n",
    "            for i in s[int(k)-2]:\n",
    "                for j in res:\n",
    "                    c.append(j+i)\n",
    "            res=c\n",
    "        return res"
   ]
  },
  {
   "cell_type": "markdown",
   "id": "18241538",
   "metadata": {},
   "source": [
    "### N-Queens\n",
    "\n",
    "The n-queens puzzle is the problem of placing n queens on an n x n chessboard so that no two queens can attack each other.\n",
    "\n",
    "A queen in a chessboard can attack horizontally, vertically, and diagonally.\n",
    "\n",
    "Given an integer n, return all distinct solutions to the n-queens puzzle.\n",
    "\n",
    "Each solution contains a unique board layout where the queen pieces are placed. 'Q' indicates a queen and '.' indicates an empty space.\n",
    "\n",
    "You may return the answer in any order."
   ]
  },
  {
   "cell_type": "code",
   "execution_count": null,
   "id": "c672f67f",
   "metadata": {},
   "outputs": [],
   "source": [
    "class Solution:\n",
    "    def solveNQueens(self, n: int) -> List[List[str]]:\n",
    "        res=[]\n",
    "        if n==1:\n",
    "            return [[\"Q\"]]\n",
    "        chess_board=[[0 for _ in range(n)] for _ in range(n)]\n",
    "        def conflict(row,col):\n",
    "            for i in range(n):\n",
    "                for j in range(n):\n",
    "                    if chess_board[i][j]==1:\n",
    "                        if i==row or j==col or i-j==(row-col) or i+j==(row+col):\n",
    "                            return True\n",
    "            return False\n",
    "        def fill_it(r):\n",
    "            if r==n:\n",
    "                list_=[]\n",
    "                for i in range(n):\n",
    "                    s=\"\"\n",
    "                    for j in range(n):\n",
    "                        if chess_board[i][j]==0:\n",
    "                            s+=\".\"\n",
    "                        else:\n",
    "                            s+=\"Q\"\n",
    "                    list_+=[s]\n",
    "                res.append(list(list_))\n",
    "                return\n",
    "\n",
    "            for c in range(n):\n",
    "                if conflict(r,c) is False:\n",
    "                    chess_board[r][c]=1\n",
    "                    fill_it(r+1)\n",
    "                    chess_board[r][c]=0\n",
    "        fill_it(0)\n",
    "        return res"
   ]
  }
 ],
 "metadata": {
  "kernelspec": {
   "display_name": "Python 3 (ipykernel)",
   "language": "python",
   "name": "python3"
  },
  "language_info": {
   "codemirror_mode": {
    "name": "ipython",
    "version": 3
   },
   "file_extension": ".py",
   "mimetype": "text/x-python",
   "name": "python",
   "nbconvert_exporter": "python",
   "pygments_lexer": "ipython3",
   "version": "3.11.4"
  }
 },
 "nbformat": 4,
 "nbformat_minor": 5
}

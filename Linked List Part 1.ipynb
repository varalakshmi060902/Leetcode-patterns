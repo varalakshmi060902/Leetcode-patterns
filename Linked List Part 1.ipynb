{
 "cells": [
  {
   "cell_type": "markdown",
   "id": "b62b676e",
   "metadata": {},
   "source": [
    "### Reverse Linked List\n",
    "\n",
    "Given the beginning of a singly linked list head, reverse the list, and return the new beginning of the list."
   ]
  },
  {
   "cell_type": "code",
   "execution_count": null,
   "id": "3e07959f",
   "metadata": {},
   "outputs": [],
   "source": [
    "class Solution:\n",
    "    def reverseList(self, head: Optional[ListNode]) -> Optional[ListNode]:\n",
    "        prev=None\n",
    "        node=head\n",
    "        while node:\n",
    "            temp=node.next\n",
    "            node.next=prev\n",
    "            prev=node\n",
    "            node=temp\n",
    "        return prev"
   ]
  },
  {
   "cell_type": "markdown",
   "id": "46235b05",
   "metadata": {},
   "source": [
    "### Merge Two Sorted Linked Lists\n",
    "\n",
    "You are given the heads of two sorted linked lists list1 and list2.\n",
    "\n",
    "Merge the two lists into one sorted linked list and return the head of the new sorted linked list.\n",
    "\n",
    "The new list should be made up of nodes from list1 and list2."
   ]
  },
  {
   "cell_type": "code",
   "execution_count": null,
   "id": "d3ac798a",
   "metadata": {},
   "outputs": [],
   "source": [
    "class Solution:\n",
    "    def mergeTwoLists(self, list1: ListNode, list2: ListNode) -> ListNode:\n",
    "        dummy = node = ListNode()\n",
    "\n",
    "        while list1 and list2:\n",
    "            if list1.val < list2.val:\n",
    "                node.next = list1\n",
    "                list1 = list1.next\n",
    "            else:\n",
    "                node.next = list2\n",
    "                list2 = list2.next\n",
    "            node = node.next\n",
    "\n",
    "        node.next = list1 or list2\n",
    "\n",
    "        return dummy.next"
   ]
  },
  {
   "cell_type": "markdown",
   "id": "cc335b43",
   "metadata": {},
   "source": [
    "### Linked List Cycle Detection\n",
    "\n",
    "Given the beginning of a linked list head, return true if there is a cycle in the linked list. Otherwise, return false.\n",
    "\n",
    "There is a cycle in a linked list if at least one node in the list that can be visited again by following the next pointer.\n",
    "\n",
    "Internally, index determines the index of the beginning of the cycle, if it exists. The tail node of the list will set it's next pointer to the index-th node. If index = -1, then the tail node points to null and no cycle exists.\n",
    "\n",
    "Note: index is not given to you as a parameter."
   ]
  },
  {
   "cell_type": "code",
   "execution_count": null,
   "id": "24e95f78",
   "metadata": {},
   "outputs": [],
   "source": [
    "class Solution:\n",
    "    def hasCycle(self, head: Optional[ListNode]) -> bool:\n",
    "        slow=head\n",
    "        fast=head.next\n",
    "        while fast and fast.next:\n",
    "            if slow==fast:\n",
    "                return True\n",
    "            slow=slow.next\n",
    "            fast=fast.next.next\n",
    "        return False"
   ]
  },
  {
   "cell_type": "markdown",
   "id": "6b40c6c0",
   "metadata": {},
   "source": [
    "### Reorder Linked List\n",
    "\n",
    "You are given the head of a singly linked-list.\n",
    "\n",
    "The positions of a linked list of length = 7 for example, can intially be represented as:\n",
    "\n",
    "[0, 1, 2, 3, 4, 5, 6]\n",
    "\n",
    "Reorder the nodes of the linked list to be in the following order:\n",
    "\n",
    "[0, 6, 1, 5, 2, 4, 3]\n",
    "\n",
    "Notice that in the general case for a list of length = n the nodes are reordered to be in the following order:\n",
    "\n",
    "[0, n-1, 1, n-2, 2, n-3, ...]\n",
    "\n",
    "You may not modify the values in the list's nodes, but instead you must reorder the nodes themselves."
   ]
  },
  {
   "cell_type": "code",
   "execution_count": null,
   "id": "cc94afaa",
   "metadata": {},
   "outputs": [],
   "source": [
    "class Solution:\n",
    "    def reorderList(self, head: Optional[ListNode]) -> None:\n",
    "        l1=head\n",
    "        l2=head.next\n",
    "        while l2 and l2.next:\n",
    "            l1=l1.next\n",
    "            l2=l2.next.next\n",
    "        l2=l1.next\n",
    "        l1.next=None\n",
    "        p,c=None,l2\n",
    "        while c:\n",
    "            t=c.next\n",
    "            c.next=p\n",
    "            p=c\n",
    "            c=t\n",
    "        l1=head\n",
    "        l2=p\n",
    "        while l2:\n",
    "            t1,t2=l1.next,l2.next\n",
    "            l1.next=l2\n",
    "            l2.next=t1\n",
    "            l1,l2=t1,t2"
   ]
  },
  {
   "cell_type": "markdown",
   "id": "fbfce6b6",
   "metadata": {},
   "source": [
    "### Remove Node From End of Linked List\n",
    "\n",
    "You are given the beginning of a linked list head, and an integer n.\n",
    "\n",
    "Remove the nth node from the end of the list and return the beginning of the list."
   ]
  },
  {
   "cell_type": "code",
   "execution_count": null,
   "id": "0251db41",
   "metadata": {},
   "outputs": [],
   "source": [
    "class Solution:\n",
    "    def removeNthFromEnd(self, head: Optional[ListNode], n: int) -> Optional[ListNode]:\n",
    "        dummy = ListNode(0, head)\n",
    "        second = dummy\n",
    "        first=head\n",
    "        while n:\n",
    "            first=first.next\n",
    "            n=n-1\n",
    "        while first:\n",
    "            second=second.next\n",
    "            first=first.next\n",
    "        second.next=second.next.next\n",
    "\n",
    "        return dummy.next"
   ]
  }
 ],
 "metadata": {
  "kernelspec": {
   "display_name": "Python 3 (ipykernel)",
   "language": "python",
   "name": "python3"
  },
  "language_info": {
   "codemirror_mode": {
    "name": "ipython",
    "version": 3
   },
   "file_extension": ".py",
   "mimetype": "text/x-python",
   "name": "python",
   "nbconvert_exporter": "python",
   "pygments_lexer": "ipython3",
   "version": "3.11.4"
  }
 },
 "nbformat": 4,
 "nbformat_minor": 5
}

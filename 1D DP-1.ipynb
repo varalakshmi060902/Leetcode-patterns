{
 "cells": [
  {
   "cell_type": "markdown",
   "id": "0e895a0e",
   "metadata": {},
   "source": [
    "### Climbing Stairs\n",
    "\n",
    "You are given an integer n representing the number of steps to reach the top of a staircase. You can climb with either 1 or 2 steps at a time.\n",
    "\n",
    "Return the number of distinct ways to climb to the top of the staircase."
   ]
  },
  {
   "cell_type": "code",
   "execution_count": null,
   "id": "7eace1dd",
   "metadata": {},
   "outputs": [],
   "source": [
    "class Solution:\n",
    "    def climbStairs(self, n: int) -> int:\n",
    "        if n<2:\n",
    "            return n\n",
    "        f=1\n",
    "        s=1\n",
    "        \n",
    "        for i in range(2,n):\n",
    "            r=f\n",
    "            f=s\n",
    "            s=s+r\n",
    "        return s+f"
   ]
  },
  {
   "cell_type": "markdown",
   "id": "7f80d224",
   "metadata": {},
   "source": [
    "### Min Cost Climbing Stairs\n",
    "\n",
    "You are given an array of integers cost where cost[i] is the cost of taking a step from the ith floor of a staircase. After paying the cost, you can step to either the (i + 1)th floor or the (i + 2)th floor.\n",
    "\n",
    "You may choose to start at the index 0 or the index 1 floor.\n",
    "\n",
    "Return the minimum cost to reach the top of the staircase, i.e. just past the last index in cost."
   ]
  },
  {
   "cell_type": "code",
   "execution_count": null,
   "id": "d9557c5a",
   "metadata": {},
   "outputs": [],
   "source": [
    "class Solution:\n",
    "    def minCostClimbingStairs(self, cost: List[int]) -> int:\n",
    "        n=len(cost)\n",
    "        def dfs(i):\n",
    "            if i==n-1 or i==n-2:\n",
    "                return cost[i]\n",
    "            return cost[i]+min(dfs(i+1),dfs(i+2))\n",
    "        return min(dfs(0),dfs(1))\n"
   ]
  },
  {
   "cell_type": "markdown",
   "id": "2ed6ea4a",
   "metadata": {},
   "source": [
    "### House Robber\n",
    "\n",
    "You are given an integer array nums where nums[i] represents the amount of money the ith house has. The houses are arranged in a straight line, i.e. the ith house is the neighbor of the (i-1)th and (i+1)th house.\n",
    "\n",
    "You are planning to rob money from the houses, but you cannot rob two adjacent houses because the security system will automatically alert the police if two adjacent houses were both broken into.\n",
    "\n",
    "Return the maximum amount of money you can rob without alerting the police."
   ]
  },
  {
   "cell_type": "code",
   "execution_count": null,
   "id": "81476b06",
   "metadata": {},
   "outputs": [],
   "source": [
    "class Solution:\n",
    "    def rob(self, nums: List[int]) -> int:\n",
    "        \n",
    "        n=len(nums)\n",
    "        if n==1:\n",
    "            return nums[0]\n",
    "        dp=[0]*n\n",
    "        dp[-1]=nums[-1]\n",
    "        dp[-2]=max(nums[-1],nums[-2])\n",
    "        for i in range(n-3,-1,-1):\n",
    "            dp[i]=max(nums[i]+dp[i+2],dp[i+1])\n",
    "        return max(dp[0],dp[1])"
   ]
  }
 ],
 "metadata": {
  "kernelspec": {
   "display_name": "Python 3 (ipykernel)",
   "language": "python",
   "name": "python3"
  },
  "language_info": {
   "codemirror_mode": {
    "name": "ipython",
    "version": 3
   },
   "file_extension": ".py",
   "mimetype": "text/x-python",
   "name": "python",
   "nbconvert_exporter": "python",
   "pygments_lexer": "ipython3",
   "version": "3.11.4"
  }
 },
 "nbformat": 4,
 "nbformat_minor": 5
}

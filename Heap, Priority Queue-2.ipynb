{
 "cells": [
  {
   "cell_type": "markdown",
   "id": "a2012b03",
   "metadata": {},
   "source": [
    "### Kth Largest Element in an Array\n",
    "\n",
    "Given an unsorted array of integers nums and an integer k, return the kth largest element in the array.\n",
    "\n",
    "By kth largest element, we mean the kth largest element in the sorted order, not the kth distinct element."
   ]
  },
  {
   "cell_type": "code",
   "execution_count": null,
   "id": "ef723f9f",
   "metadata": {},
   "outputs": [],
   "source": [
    "class Solution:\n",
    "    def findKthLargest(self, nums: List[int], k: int) -> int:\n",
    "        minHeap=[]\n",
    "        for i in nums:\n",
    "            heapq.heappush(minHeap,i)\n",
    "            if len(minHeap)>k:\n",
    "                heapq.heappop(minHeap)\n",
    "        return (minHeap[0])"
   ]
  },
  {
   "cell_type": "markdown",
   "id": "587065a8",
   "metadata": {},
   "source": [
    "### Task Scheduler\n",
    "\n",
    "You are given an array of CPU tasks tasks, where tasks[i] is an uppercase english character from A to Z. You are also given an integer n.\n",
    "\n",
    "Each CPU cycle allows the completion of a single task, and tasks may be completed in any order.\n",
    "\n",
    "The only constraint is that identical tasks must be separated by at least n CPU cycles, to cooldown the CPU.\n",
    "\n",
    "Return the minimum number of CPU cycles required to complete all tasks."
   ]
  },
  {
   "cell_type": "code",
   "execution_count": null,
   "id": "293ec596",
   "metadata": {},
   "outputs": [],
   "source": [
    "class Solution:\n",
    "    def leastInterval(self, tasks: List[str], n: int) -> int:\n",
    "        count=Counter(tasks)\n",
    "        maxHeap=[-cnt for cnt in count.values()]\n",
    "        heapq.heapify(maxHeap)\n",
    "        time=0\n",
    "        q=deque()\n",
    "        while maxHeap or q:\n",
    "            time+=1\n",
    "            if not maxHeap:\n",
    "                time=q[0][1]\n",
    "            else:\n",
    "                cnt=1+heapq.heappop(maxHeap)\n",
    "                if cnt:\n",
    "                    q.append([cnt,time+n])\n",
    "            if q and q[0][1]==time:\n",
    "                heapq.heappush(maxHeap,q.popleft()[0])\n",
    "        return time"
   ]
  },
  {
   "cell_type": "markdown",
   "id": "b7485e92",
   "metadata": {},
   "source": [
    "### Design Twitter\n",
    "\n",
    "Implement a simplified version of Twitter which allows users to post tweets, follow/unfollow each other, and view the 10 most recent tweets within their own news feed.\n",
    "\n",
    "Users and tweets are uniquely identified by their IDs (integers).\n",
    "\n",
    "Implement the following methods:\n",
    "\n",
    "Twitter() Initializes the twitter object.\n",
    "void postTweet(int userId, int tweetId) Publish a new tweet with ID tweetId by the user userId. You may assume that each tweetId is unique.\n",
    "List<Integer> getNewsFeed(int userId) Fetches at most the 10 most recent tweet IDs in the user's news feed. Each item must be posted by users who the user is following or by the user themself. Tweets IDs should be ordered from most recent to least recent.\n",
    "void follow(int followerId, int followeeId) The user with ID followerId follows the user with ID followeeId.\n",
    "void unfollow(int followerId, int followeeId) The user with ID followerId unfollows the user with ID followeeId."
   ]
  },
  {
   "cell_type": "code",
   "execution_count": null,
   "id": "988ca17e",
   "metadata": {},
   "outputs": [],
   "source": [
    "class Twitter:\n",
    "    def __init__(self):\n",
    "        self.count = 0\n",
    "        self.tweetMap = defaultdict(list)  # userId -> list of [count, tweetIds]\n",
    "        self.followMap = defaultdict(set)  # userId -> set of followeeId\n",
    "\n",
    "    def postTweet(self, userId: int, tweetId: int) -> None:\n",
    "        self.tweetMap[userId].append([self.count, tweetId])\n",
    "        self.count -= 1\n",
    "\n",
    "    def getNewsFeed(self, userId: int) -> List[int]:\n",
    "        res = []\n",
    "        minHeap = []\n",
    "\n",
    "        self.followMap[userId].add(userId)\n",
    "        for followeeId in self.followMap[userId]:\n",
    "            if followeeId in self.tweetMap:\n",
    "                index = len(self.tweetMap[followeeId]) - 1\n",
    "                count, tweetId = self.tweetMap[followeeId][index]\n",
    "                heapq.heappush(minHeap, [count, tweetId, followeeId, index - 1])\n",
    "\n",
    "        while minHeap and len(res) < 10:\n",
    "            count, tweetId, followeeId, index = heapq.heappop(minHeap)\n",
    "            res.append(tweetId)\n",
    "            if index >= 0:\n",
    "                count, tweetId = self.tweetMap[followeeId][index]\n",
    "                heapq.heappush(minHeap, [count, tweetId, followeeId, index - 1])\n",
    "        return res\n",
    "\n",
    "    def follow(self, followerId: int, followeeId: int) -> None:\n",
    "        self.followMap[followerId].add(followeeId)\n",
    "\n",
    "    def unfollow(self, followerId: int, followeeId: int) -> None:\n",
    "        if followeeId in self.followMap[followerId]:\n",
    "            self.followMap[followerId].remove(followeeId)"
   ]
  }
 ],
 "metadata": {
  "kernelspec": {
   "display_name": "Python 3 (ipykernel)",
   "language": "python",
   "name": "python3"
  },
  "language_info": {
   "codemirror_mode": {
    "name": "ipython",
    "version": 3
   },
   "file_extension": ".py",
   "mimetype": "text/x-python",
   "name": "python",
   "nbconvert_exporter": "python",
   "pygments_lexer": "ipython3",
   "version": "3.11.4"
  }
 },
 "nbformat": 4,
 "nbformat_minor": 5
}

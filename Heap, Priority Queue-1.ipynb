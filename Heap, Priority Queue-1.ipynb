{
 "cells": [
  {
   "cell_type": "markdown",
   "id": "7e257399",
   "metadata": {},
   "source": [
    "### Kth Largest Element in a Stream\n",
    "\n",
    "Design a class to find the kth largest integer in a stream of values, including duplicates. E.g. the 2nd largest from [1, 2, 3, 3] is 3. The stream is not necessarily sorted.\n",
    "\n",
    "Implement the following methods:\n",
    "\n",
    "constructor(int k, int[] nums) Initializes the object given an integer k and the stream of integers nums.\n",
    "int add(int val) Adds the integer val to the stream and returns the kth largest integer in the stream."
   ]
  },
  {
   "cell_type": "code",
   "execution_count": null,
   "id": "3f0d2db4",
   "metadata": {},
   "outputs": [],
   "source": [
    "class KthLargest:\n",
    "\n",
    "    def __init__(self, k: int, nums: List[int]):\n",
    "        self.minHeap,self.k=nums,k\n",
    "        heapq.heapify(self.minHeap)\n",
    "        while len(self.minHeap)>k:\n",
    "            heapq.heappop(self.minHeap)\n",
    "\n",
    "    def add(self, val: int) -> int:\n",
    "        heapq.heappush(self.minHeap,val)\n",
    "        if len(self.minHeap)>self.k:\n",
    "            heapq.heappop(self.minHeap)\n",
    "        return self.minHeap[0]"
   ]
  },
  {
   "cell_type": "markdown",
   "id": "aac60060",
   "metadata": {},
   "source": [
    "### Last Stone Weight\n",
    "\n",
    "You are given an array of integers stones where stones[i] represents the weight of the ith stone.\n",
    "\n",
    "We want to run a simulation on the stones as follows:\n",
    "\n",
    "At each step we choose the two heaviest stones, with weight x and y and smash them togethers\n",
    "If x == y, both stones are destroyed\n",
    "If x < y, the stone of weight x is destroyed, and the stone of weight y has new weight y - x.\n",
    "Continue the simulation until there is no more than one stone remaining.\n",
    "\n",
    "Return the weight of the last remaining stone or return 0 if none remain."
   ]
  },
  {
   "cell_type": "code",
   "execution_count": null,
   "id": "afcb37c6",
   "metadata": {},
   "outputs": [],
   "source": [
    "class Solution:\n",
    "    def lastStoneWeight(self, stones: List[int]) -> int:\n",
    "        maxHeap=[-s for s in stones]\n",
    "        heapq.heapify(maxHeap)\n",
    "\n",
    "        while len(maxHeap)>1:\n",
    "            first=-1*(heapq.heappop(maxHeap))\n",
    "            second=-1*(heapq.heappop(maxHeap))\n",
    "            if first!=second:\n",
    "                heapq.heappush(maxHeap,-1*(first-second))\n",
    "        if len(maxHeap)==0:\n",
    "            return 0\n",
    "        return -1*(maxHeap[0])"
   ]
  },
  {
   "cell_type": "markdown",
   "id": "e0ff8f80",
   "metadata": {},
   "source": [
    "### K Closest Points to Origin\n",
    "\n",
    "You are given an 2-D array points where points[i] = [xi, yi] represents the coordinates of a point on an X-Y axis plane. You are also given an integer k.\n",
    "\n",
    "Return the k closest points to the origin (0, 0).\n",
    "\n",
    "The distance between two points is defined as the Euclidean distance (sqrt((x1 - x2)^2 + (y1 - y2)^2)).\n",
    "\n",
    "You may return the answer in any order."
   ]
  },
  {
   "cell_type": "code",
   "execution_count": null,
   "id": "5330dd85",
   "metadata": {},
   "outputs": [],
   "source": [
    "class Solution:\n",
    "    def kClosest(self, points: List[List[int]], k: int) -> List[List[int]]:\n",
    "        maxHeap=[]\n",
    "        for x,y in points:\n",
    "            d=-((x*x)+(y*y))\n",
    "            heapq.heappush(maxHeap,[d,x,y])\n",
    "            if len(maxHeap)>k:\n",
    "                heapq.heappop(maxHeap)\n",
    "        res=[]\n",
    "        while maxHeap:\n",
    "            d,x,y=heapq.heappop(maxHeap)\n",
    "            res.append([x,y])\n",
    "        return res"
   ]
  }
 ],
 "metadata": {
  "kernelspec": {
   "display_name": "Python 3 (ipykernel)",
   "language": "python",
   "name": "python3"
  },
  "language_info": {
   "codemirror_mode": {
    "name": "ipython",
    "version": 3
   },
   "file_extension": ".py",
   "mimetype": "text/x-python",
   "name": "python",
   "nbconvert_exporter": "python",
   "pygments_lexer": "ipython3",
   "version": "3.11.4"
  }
 },
 "nbformat": 4,
 "nbformat_minor": 5
}

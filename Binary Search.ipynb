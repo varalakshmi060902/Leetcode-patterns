{
 "cells": [
  {
   "cell_type": "markdown",
   "id": "fcd1712c",
   "metadata": {},
   "source": [
    "### Binary Search\n",
    "\n",
    "You are given an array of distinct integers nums, sorted in ascending order, and an integer target.\n",
    "\n",
    "Implement a function to search for target within nums. If it exists, then return its index, otherwise, return -1.\n",
    "\n",
    "Your solution must run in O(logn) time."
   ]
  },
  {
   "cell_type": "code",
   "execution_count": null,
   "id": "5cc5c153",
   "metadata": {},
   "outputs": [],
   "source": [
    "class Solution:\n",
    "    def search(self, nums: List[int], target: int) -> int:\n",
    "        l,r=0,len(nums)-1\n",
    "        while l<=r:\n",
    "            m=l+((r-l)//2)\n",
    "            if nums[m]>target:\n",
    "                r=m-1\n",
    "            elif nums[m]<target:\n",
    "                l=m+1\n",
    "            else:\n",
    "                return m\n",
    "        return -1"
   ]
  },
  {
   "cell_type": "markdown",
   "id": "ffc2caea",
   "metadata": {},
   "source": [
    "### Search a 2D Matrix\n",
    "\n",
    "You are given an m x n 2-D integer array matrix and an integer target.\n",
    "\n",
    "Each row in matrix is sorted in non-decreasing order.\n",
    "The first integer of every row is greater than the last integer of the previous row.\n",
    "Return true if target exists within matrix or false otherwise.\n",
    "\n",
    "Can you write a solution that runs in O(log(m * n)) time?"
   ]
  },
  {
   "cell_type": "code",
   "execution_count": null,
   "id": "e184dff3",
   "metadata": {},
   "outputs": [],
   "source": [
    "class Solution:\n",
    "    def searchMatrix(self, matrix: List[List[int]], target: int) -> bool:\n",
    "        ROWS, COLS = len(matrix), len(matrix[0])\n",
    "\n",
    "        top, bot = 0, ROWS - 1\n",
    "        while top <= bot:\n",
    "            row = (top + bot) // 2\n",
    "            if target > matrix[row][-1]:\n",
    "                top = row + 1\n",
    "            elif target < matrix[row][0]:\n",
    "                bot = row - 1\n",
    "            else:\n",
    "                break\n",
    "\n",
    "        if not (top <= bot):\n",
    "            return False\n",
    "        row = (top + bot) // 2\n",
    "        l, r = 0, COLS - 1\n",
    "        while l <= r:\n",
    "            m = (l + r) // 2\n",
    "            if target > matrix[row][m]:\n",
    "                l = m + 1\n",
    "            elif target < matrix[row][m]:\n",
    "                r = m - 1\n",
    "            else:\n",
    "                return True\n",
    "        return False\n"
   ]
  },
  {
   "cell_type": "markdown",
   "id": "841fa12b",
   "metadata": {},
   "source": [
    "### Koko Eating Bananas\n",
    " \n",
    "You are given an integer array piles where piles[i] is the number of bananas in the ith pile. You are also given an integer h, which represents the number of hours you have to eat all the bananas.\n",
    "\n",
    "You may decide your bananas-per-hour eating rate of k. Each hour, you may choose a pile of bananas and eats k bananas from that pile. If the pile has less than k bananas, you may finish eating the pile but you can not eat from another pile in the same hour.\n",
    "\n",
    "Return the minimum integer k such that you can eat all the bananas within h hours."
   ]
  },
  {
   "cell_type": "code",
   "execution_count": null,
   "id": "02f85aeb",
   "metadata": {},
   "outputs": [],
   "source": [
    "class Solution:\n",
    "    def minEatingSpeed(self, piles: List[int], h: int) -> int:\n",
    "        l=1\n",
    "        r=max(piles)\n",
    "        res=r\n",
    "        while l<=r:\n",
    "            m=(l+r)//2\n",
    "            a=0\n",
    "            for i in piles:\n",
    "                a+=math.ceil(i/m)\n",
    "            if a<=h:\n",
    "                res=m\n",
    "                r=m-1\n",
    "            else:\n",
    "                l=m+1\n",
    "        return res"
   ]
  },
  {
   "cell_type": "markdown",
   "id": "238c3280",
   "metadata": {},
   "source": [
    "### Find Minimum in Rotated Sorted Array\n",
    "\n",
    "You are given an array of length n which was originally sorted in ascending order. It has now been rotated between 1 and n times. For example, the array nums = [1,2,3,4,5,6] might become:\n",
    "\n",
    "[3,4,5,6,1,2] if it was rotated 4 times.\n",
    "[1,2,3,4,5,6] if it was rotated 6 times.\n",
    "Notice that rotating the array 4 times moves the last four elements of the array to the beginning. Rotating the array 6 times produces the original array.\n",
    "\n",
    "Assuming all elements in the rotated sorted array nums are unique, return the minimum element of this array.\n",
    "\n",
    "A solution that runs in O(n) time is trivial, can you write an algorithm that runs in O(log n) time?"
   ]
  },
  {
   "cell_type": "code",
   "execution_count": null,
   "id": "c85620b8",
   "metadata": {},
   "outputs": [],
   "source": [
    "class Solution:\n",
    "    def findMin(self, nums: List[int]) -> int:\n",
    "        l,r=0,len(nums)-1\n",
    "        while l<r:\n",
    "            m=(r + l) // 2\n",
    "            if nums[m]<nums[r]:\n",
    "                r=m\n",
    "            else:\n",
    "                l=m+1\n",
    "        return nums[l]"
   ]
  },
  {
   "cell_type": "markdown",
   "id": "89124e65",
   "metadata": {},
   "source": [
    "### Search in Rotated Sorted Array\n",
    "\n",
    "You are given an array of length n which was originally sorted in ascending order. It has now been rotated between 1 and n times. For example, the array nums = [1,2,3,4,5,6] might become:\n",
    "\n",
    "[3,4,5,6,1,2] if it was rotated 4 times.\n",
    "[1,2,3,4,5,6] if it was rotated 6 times.\n",
    "Given the rotated sorted array nums and an integer target, return the index of target within nums, or -1 if it is not present.\n",
    "\n",
    "You may assume all elements in the sorted rotated array nums are unique,\n",
    "\n",
    "A solution that runs in O(n) time is trivial, can you write an algorithm that runs in O(log n) time?"
   ]
  },
  {
   "cell_type": "code",
   "execution_count": null,
   "id": "6c160413",
   "metadata": {},
   "outputs": [],
   "source": [
    "class Solution:\n",
    "    def search(self, nums: List[int], target: int) -> int:\n",
    "        l,r=0,len(nums)-1\n",
    "        while l<=r:\n",
    "            m=(l+r)//2\n",
    "            if nums[m]==target:\n",
    "                return m\n",
    "            if nums[l]<=nums[m]:\n",
    "                if target>nums[m] or target<nums[l]:\n",
    "                    l=m+1\n",
    "                else:\n",
    "                    r=m-1\n",
    "            else:\n",
    "                if target<nums[m] or target>nums[r]:\n",
    "                    r=m-1\n",
    "                else:\n",
    "                    l=m+1\n",
    "            \n",
    "                    \n",
    "        return -1"
   ]
  }
 ],
 "metadata": {
  "kernelspec": {
   "display_name": "Python 3 (ipykernel)",
   "language": "python",
   "name": "python3"
  },
  "language_info": {
   "codemirror_mode": {
    "name": "ipython",
    "version": 3
   },
   "file_extension": ".py",
   "mimetype": "text/x-python",
   "name": "python",
   "nbconvert_exporter": "python",
   "pygments_lexer": "ipython3",
   "version": "3.11.4"
  }
 },
 "nbformat": 4,
 "nbformat_minor": 5
}

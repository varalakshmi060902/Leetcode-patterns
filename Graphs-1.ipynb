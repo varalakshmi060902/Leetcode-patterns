{
 "cells": [
  {
   "cell_type": "markdown",
   "id": "628c10e3",
   "metadata": {},
   "source": [
    "### Number of Islands\n",
    "\n",
    "Given a 2D grid grid where '1' represents land and '0' represents water, count and return the number of islands.\n",
    "\n",
    "An island is formed by connecting adjacent lands horizontally or vertically and is surrounded by water. You may assume water is surrounding the grid (i.e., all the edges are water)."
   ]
  },
  {
   "cell_type": "code",
   "execution_count": null,
   "id": "d9471d52",
   "metadata": {},
   "outputs": [],
   "source": [
    "class Solution:\n",
    "    def numIslands(self, grid: List[List[str]]) -> int:\n",
    "        ans=0\n",
    "        rows=len(grid)\n",
    "        cols=len(grid[0])\n",
    "        def dfs(row,col):\n",
    "            if (row<0 or col<0 or row>=rows or col>=cols or grid[row][col]==\"0\"):\n",
    "                return\n",
    "            grid[row][col]=\"0\"\n",
    "            dfs(row+1,col)\n",
    "            dfs(row-1,col)\n",
    "            dfs(row,col+1)\n",
    "            dfs(row,col-1)\n",
    "\n",
    "        for i in range(rows):\n",
    "            for j in range(cols):\n",
    "                if grid[i][j]==\"1\":\n",
    "                    dfs(i,j)\n",
    "                    ans+=1\n",
    "        return ans"
   ]
  },
  {
   "cell_type": "markdown",
   "id": "7caaea1a",
   "metadata": {},
   "source": [
    "### Max Area of Island\n",
    "\n",
    "You are given a matrix grid where grid[i] is either a 0 (representing water) or 1 (representing land).\n",
    "\n",
    "An island is defined as a group of 1's connected horizontally or vertically. You may assume all four edges of the grid are surrounded by water.\n",
    "\n",
    "The area of an island is defined as the number of cells within the island.\n",
    "\n",
    "Return the maximum area of an island in grid. If no island exists, return 0."
   ]
  },
  {
   "cell_type": "code",
   "execution_count": null,
   "id": "98cc0bb9",
   "metadata": {},
   "outputs": [],
   "source": [
    "class Solution:\n",
    "    def maxAreaOfIsland(self, grid: List[List[int]]) -> int:\n",
    "        maxArea=0\n",
    "        ROWS=len(grid)\n",
    "        COLS=len(grid[0])\n",
    "        def dfs(r,c):\n",
    "            if (r<0 or c<0 or r>=ROWS or c>=COLS or grid[r][c]==0):\n",
    "                return 0\n",
    "            grid[r][c]=0\n",
    "            return (dfs(r+1,c)+dfs(r-1,c)+dfs(r,c+1)+dfs(r,c-1)+1)\n",
    "        for r in range(ROWS):\n",
    "            for c in range(COLS):\n",
    "                if grid[r][c]==1:\n",
    "                    maxArea=max(maxArea,dfs(r,c))\n",
    "\n",
    "        return maxArea"
   ]
  },
  {
   "cell_type": "markdown",
   "id": "3ddd3a01",
   "metadata": {},
   "source": [
    "### Clone Graph\n",
    "\n",
    "Given a node in a connected undirected graph, return a deep copy of the graph.\n",
    "\n",
    "Each node in the graph contains an integer value and a list of its neighbors.\n",
    "\n",
    "class Node {\n",
    "    public int val;\n",
    "    public List<Node> neighbors;\n",
    "}\n",
    "The graph is shown in the test cases as an adjacency list. An adjacency list is a mapping of nodes to lists, used to represent a finite graph. Each list describes the set of neighbors of a node in the graph.\n",
    "\n",
    "For simplicity, nodes values are numbered from 1 to n, where n is the total number of nodes in the graph. The index of each node within the adjacency list is the same as the node's value (1-indexed).\n",
    "\n",
    "The input node will always be the first node in the graph and have 1 as the value."
   ]
  },
  {
   "cell_type": "code",
   "execution_count": null,
   "id": "e4174465",
   "metadata": {},
   "outputs": [],
   "source": [
    "\"\"\"\n",
    "# Definition for a Node.\n",
    "class Node:\n",
    "    def __init__(self, val = 0, neighbors = None):\n",
    "        self.val = val\n",
    "        self.neighbors = neighbors if neighbors is not None else []\n",
    "\"\"\"\n",
    "\n",
    "class Solution:\n",
    "    def cloneGraph(self, node: Optional['Node']) -> Optional['Node']:\n",
    "        hashmap={}\n",
    "        def dfs(node):\n",
    "            if node in hashmap:\n",
    "                return hashmap[node]\n",
    "            copy=Node(node.val)\n",
    "            hashmap[node]=copy\n",
    "            for i in node.neighbors:\n",
    "                copy.neighbors.append(dfs(i))\n",
    "            return copy\n",
    "        if node:\n",
    "            return dfs(node)\n",
    "        else:\n",
    "            return None"
   ]
  },
  {
   "cell_type": "markdown",
   "id": "594fe033",
   "metadata": {},
   "source": [
    "### Islands and Treasure\n",
    "\n",
    "You are given a m×n 2D grid initialized with these three possible values:\n",
    "\n",
    "-1 - A water cell that can not be traversed.\n",
    "0 - A treasure chest.\n",
    "INF - A land cell that can be traversed. We use the integer 2^31 - 1 = 2147483647 to represent INF.\n",
    "Fill each land cell with the distance to its nearest treasure chest. If a land cell cannot reach a treasure chest than the value should remain INF.\n",
    "\n",
    "Assume the grid can only be traversed up, down, left, or right.\n",
    "\n",
    "Modify the grid in-place."
   ]
  },
  {
   "cell_type": "code",
   "execution_count": null,
   "id": "8f5cc7d5",
   "metadata": {},
   "outputs": [],
   "source": [
    "class Solution:\n",
    "    def islandsAndTreasure(self, grid: List[List[int]]) -> None:\n",
    "        ROWS=len(grid)\n",
    "        COLS=len(grid[0])\n",
    "        visit=set()\n",
    "        q=deque()\n",
    "        def addRoom(r,c):\n",
    "            if (r<0 or c<0 or r>=ROWS or c>=COLS or (r,c) in visit or grid[r][c]==-1):\n",
    "                return\n",
    "            visit.add((r,c))\n",
    "            q.append([r,c])\n",
    "        for r in range(ROWS):\n",
    "            for c in range(COLS):\n",
    "                if grid[r][c]==0:\n",
    "                    q.append([r,c])\n",
    "                    visit.add((r,c))\n",
    "        dist=0\n",
    "        while q:\n",
    "            for i in range(len(q)):\n",
    "                r,c =q.popleft()\n",
    "                grid[r][c]=dist\n",
    "                addRoom(r+1,c)\n",
    "                addRoom(r-1,c)\n",
    "                addRoom(r,c-1)\n",
    "                addRoom(r,c+1)\n",
    "            dist+=1"
   ]
  }
 ],
 "metadata": {
  "kernelspec": {
   "display_name": "Python 3 (ipykernel)",
   "language": "python",
   "name": "python3"
  },
  "language_info": {
   "codemirror_mode": {
    "name": "ipython",
    "version": 3
   },
   "file_extension": ".py",
   "mimetype": "text/x-python",
   "name": "python",
   "nbconvert_exporter": "python",
   "pygments_lexer": "ipython3",
   "version": "3.11.4"
  }
 },
 "nbformat": 4,
 "nbformat_minor": 5
}

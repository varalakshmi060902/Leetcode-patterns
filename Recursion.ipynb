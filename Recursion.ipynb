{
 "cells": [
  {
   "cell_type": "code",
   "execution_count": null,
   "id": "bdeda672",
   "metadata": {},
   "outputs": [],
   "source": [
    "##Combinations\n",
    "\n",
    "'''\n",
    "Given two integers n and k, return all possible combinations of k \n",
    "numbers chosen from the range [1, n].\n",
    "You may return the answer in any order.\n",
    "'''\n"
   ]
  },
  {
   "cell_type": "code",
   "execution_count": null,
   "id": "b0da96b4",
   "metadata": {},
   "outputs": [],
   "source": [
    "class Solution:\n",
    "    def combine(self, n: int, k: int) -> List[List[int]]:\n",
    "        if n==1:\n",
    "            return [[1]]\n",
    "        result=[]\n",
    "        for i in range(1,n-k+2):\n",
    "            c=[]\n",
    "            for j in range(n-i+):\n",
    "                c+=[i+j]"
   ]
  },
  {
   "cell_type": "code",
   "execution_count": null,
   "id": "053bef64",
   "metadata": {},
   "outputs": [],
   "source": [
    "##Subsets\n",
    "\n",
    "'''\n",
    "Given an integer array nums of unique elements, return all possible \n",
    "subsets (the power set).\n",
    "\n",
    "The solution set must not contain duplicate subsets. \n",
    "Return the solution in any order.\n",
    "'''\n"
   ]
  },
  {
   "cell_type": "code",
   "execution_count": null,
   "id": "d30e22f5",
   "metadata": {},
   "outputs": [],
   "source": [
    "class Solution:\n",
    "    def subsets(self, nums: List[int]) -> List[List[int]]:\n",
    "        output=[[]]\n",
    "        for num in nums:\n",
    "            s=[]\n",
    "            for c in output:\n",
    "                t=c.copy()\n",
    "                t.append(num)\n",
    "                s.append(t)\n",
    "            for c in s:\n",
    "                output.append(c)\n",
    "        return output"
   ]
  },
  {
   "cell_type": "code",
   "execution_count": null,
   "id": "6d7c8708",
   "metadata": {},
   "outputs": [],
   "source": [
    "##Subsets-II\n",
    "'''\n",
    "Given an integer array nums that may contain duplicates, return all possible \n",
    "subsets\n",
    " (the power set).\n",
    "\n",
    "The solution set must not contain duplicate subsets. \n",
    "Return the solution in any order.\n",
    "'''\n"
   ]
  },
  {
   "cell_type": "code",
   "execution_count": null,
   "id": "1a9c02f8",
   "metadata": {},
   "outputs": [],
   "source": [
    "class Solution:\n",
    "    def subsetsWithDup(self, nums: List[int]) -> List[List[int]]:\n",
    "        output=[[]]\n",
    "        for num in nums:\n",
    "            s=[]\n",
    "            for c in output:\n",
    "                t=c.copy()\n",
    "                t.append(num)\n",
    "                s.append(t)\n",
    "            for c in s:\n",
    "                c.sort()\n",
    "                if c not in output:\n",
    "                    output.append(c)\n",
    "        return output"
   ]
  },
  {
   "cell_type": "code",
   "execution_count": null,
   "id": "d8ba3f39",
   "metadata": {},
   "outputs": [],
   "source": [
    "##Generate Parentheses\n",
    "'''\n",
    "Given n pairs of parentheses, write a function to generate \n",
    "all combinations of well-formed parentheses.\n",
    "'''\n"
   ]
  },
  {
   "cell_type": "code",
   "execution_count": null,
   "id": "f765009e",
   "metadata": {},
   "outputs": [],
   "source": [
    "class Solution:\n",
    "    def generateParenthesis(self, n: int) -> List[str]:\n",
    "        output=[]\n",
    "        def a(c,l,r):\n",
    "            if len(c)==2*n:\n",
    "                output.append(\"\".join(c))\n",
    "                return\n",
    "            if l<n:\n",
    "                c.append(\"(\")\n",
    "                a(c,l+1,r)\n",
    "                c.pop()\n",
    "            if r<l:\n",
    "                c.append(\")\")\n",
    "                a(c,l,r+1)\n",
    "                c.pop()\n",
    "        a([],0,0)\n",
    "        return output"
   ]
  }
 ],
 "metadata": {
  "kernelspec": {
   "display_name": "Python 3 (ipykernel)",
   "language": "python",
   "name": "python3"
  },
  "language_info": {
   "codemirror_mode": {
    "name": "ipython",
    "version": 3
   },
   "file_extension": ".py",
   "mimetype": "text/x-python",
   "name": "python",
   "nbconvert_exporter": "python",
   "pygments_lexer": "ipython3",
   "version": "3.11.4"
  }
 },
 "nbformat": 4,
 "nbformat_minor": 5
}

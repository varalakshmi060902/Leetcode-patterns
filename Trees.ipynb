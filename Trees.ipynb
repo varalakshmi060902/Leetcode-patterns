{
 "cells": [
  {
   "cell_type": "markdown",
   "id": "74f43249",
   "metadata": {},
   "source": [
    "### Invert Binary Tree\n",
    "You are given the root of a binary tree root. Invert the binary tree and return its root."
   ]
  },
  {
   "cell_type": "code",
   "execution_count": null,
   "id": "5887831b",
   "metadata": {},
   "outputs": [],
   "source": [
    "class Solution:\n",
    "    def invertTree(self, root: Optional[TreeNode]) -> Optional[TreeNode]:\n",
    "        if not root: return None\n",
    "\n",
    "        root.left, root.right = root.right, root.left\n",
    "        \n",
    "        self.invertTree(root.left)\n",
    "        self.invertTree(root.right)\n",
    "        \n",
    "        return root"
   ]
  },
  {
   "cell_type": "markdown",
   "id": "eef3147c",
   "metadata": {},
   "source": [
    "### Maximum Depth of Binary Tree\n",
    "Given the root of a binary tree, return its depth.\n",
    "\n",
    "The depth of a binary tree is defined as the number of nodes along the longest path from the root node down to the farthest leaf node."
   ]
  },
  {
   "cell_type": "code",
   "execution_count": null,
   "id": "41e363f9",
   "metadata": {},
   "outputs": [],
   "source": [
    "class Solution:\n",
    "    def maxDepth(self, root: Optional[TreeNode]) -> int:\n",
    "        if not root:\n",
    "            return 0\n",
    "        if root:\n",
    "            return 1+max(self.maxDepth(root.left), self.maxDepth(root.right))"
   ]
  },
  {
   "cell_type": "markdown",
   "id": "7d47444a",
   "metadata": {},
   "source": [
    "### Diameter of Binary Tree\n",
    "The diameter of a binary tree is defined as the length of the longest path between any two nodes within the tree. The path does not necessarily have to pass through the root.\n",
    "\n",
    "The length of a path between two nodes in a binary tree is the number of edges between the nodes.\n",
    "\n",
    "Given the root of a binary tree root, return the diameter of the tree."
   ]
  },
  {
   "cell_type": "code",
   "execution_count": null,
   "id": "8622b542",
   "metadata": {},
   "outputs": [],
   "source": [
    "class Solution:\n",
    "    def diameterOfBinaryTree(self, root: Optional[TreeNode]) -> int:\n",
    "        def height(k):\n",
    "            if not k:\n",
    "                return 0\n",
    "            else:\n",
    "                return 1+max(height(k.left),height(k.right))\n",
    "        if not root:\n",
    "            return 0\n",
    "        return max((height(root.left)+height(root.right)),max(self.diameterOfBinaryTree(root.left),self.diameterOfBinaryTree(root.right)))"
   ]
  },
  {
   "cell_type": "markdown",
   "id": "065bf7f8",
   "metadata": {},
   "source": [
    "### Balanced Binary Tree\n",
    "Given a binary tree, return true if it is height-balanced and false otherwise.\n",
    "\n",
    "A height-balanced binary tree is defined as a binary tree in which the left and right subtrees of every node differ in height by no more than 1."
   ]
  },
  {
   "cell_type": "code",
   "execution_count": null,
   "id": "0339f647",
   "metadata": {},
   "outputs": [],
   "source": [
    "class Solution:\n",
    "    def isBalanced(self, root: Optional[TreeNode]) -> bool:\n",
    "        if not root:\n",
    "            return True\n",
    "        def height(k):\n",
    "            if not k:\n",
    "                return 0\n",
    "            return 1+max(height(k.left),height(k.right))\n",
    "        if abs(height(root.left)-height(root.right))>1:\n",
    "            return False\n",
    "\n",
    "          \n",
    "        return (self.isBalanced(root.left) and self.isBalanced(root.right))"
   ]
  },
  {
   "cell_type": "markdown",
   "id": "0586041a",
   "metadata": {},
   "source": [
    "### Same Binary Tree\n",
    "Given the roots of two binary trees p and q, return true if the trees are equivalent, otherwise return false.\n",
    "\n",
    "Two binary trees are considered equivalent if they share the exact same structure and the nodes have the same values."
   ]
  },
  {
   "cell_type": "code",
   "execution_count": null,
   "id": "cc9495d3",
   "metadata": {},
   "outputs": [],
   "source": [
    "class Solution:\n",
    "    def isSameTree(self, p: Optional[TreeNode], q: Optional[TreeNode]) -> bool:\n",
    "        if (not p) and (not q):\n",
    "            return True\n",
    "        if (not p) or (not q):\n",
    "            return False\n",
    "\n",
    "        if p.val!=q.val:\n",
    "            return False\n",
    "        return (self.isSameTree(p.right,q.right) and self.isSameTree(p.left,q.left))"
   ]
  },
  {
   "cell_type": "markdown",
   "id": "067449a7",
   "metadata": {},
   "source": [
    "### Subtree of Another Tree\n",
    "Given the roots of two binary trees root and subRoot, return true if there is a subtree of root with the same structure and node values of subRoot and false otherwise.\n",
    "\n",
    "A subtree of a binary tree tree is a tree that consists of a node in tree and all of this node's descendants. The tree tree could also be considered as a subtree of itself."
   ]
  },
  {
   "cell_type": "code",
   "execution_count": null,
   "id": "d9482ece",
   "metadata": {},
   "outputs": [],
   "source": [
    "class Solution:   \n",
    "    def isSubtree(self, root: Optional[TreeNode], subRoot: Optional[TreeNode]) -> bool:\n",
    "        def isSameTree(p, q):\n",
    "            if (not p) and (not q):\n",
    "                return True\n",
    "            if (not p) or (not q):\n",
    "                return False\n",
    "            if p.val!=q.val:\n",
    "                return False\n",
    "            return (isSameTree(p.right,q.right) and isSameTree(p.left,q.left))\n",
    "        def height(r):\n",
    "            if not r:\n",
    "                return 0\n",
    "            return 1+ max(height(r.right),height(r.left))\n",
    "        if (not root) and (not subRoot):\n",
    "            return True\n",
    "        if not root:\n",
    "            return False\n",
    "        if (root.val==subRoot.val) and (height(root)==height(subRoot)):\n",
    "            return isSameTree(root,subRoot)\n",
    "        return (self.isSubtree(root.left,subRoot) or self.isSubtree(root.right,subRoot))"
   ]
  },
  {
   "cell_type": "markdown",
   "id": "8163b2e0",
   "metadata": {},
   "source": [
    "### Lowest Common Ancestor in Binary Search Tree\n",
    "Given a binary search tree (BST) where all node values are unique, and two nodes from the tree p and q, return the lowest common ancestor (LCA) of the two nodes.\n",
    "\n",
    "The lowest common ancestor between two nodes p and q is the lowest node in a tree T such that both p and q as descendants. The ancestor is allowed to be a descendant of itself."
   ]
  },
  {
   "cell_type": "code",
   "execution_count": null,
   "id": "d42d51e5",
   "metadata": {},
   "outputs": [],
   "source": [
    "class Solution:\n",
    "    def lowestCommonAncestor(self, root: TreeNode, p: TreeNode, q: TreeNode) -> TreeNode:\n",
    "\n",
    "        if ((root.val>p.val) and (root.val<q.val)) or ((root.val<p.val) and (root.val>q.val)):\n",
    "            return root\n",
    "        if (root.val==p.val) or (root.val==q.val):\n",
    "            return root\n",
    "        if (root.val>p.val) and (root.val>q.val):\n",
    "            return self.lowestCommonAncestor(root.left,p,q)\n",
    "        if (root.val<p.val) and (root.val<q.val):\n",
    "            return self.lowestCommonAncestor(root.right,p,q)"
   ]
  },
  {
   "cell_type": "markdown",
   "id": "1e3408e4",
   "metadata": {},
   "source": [
    "### Binary Tree Level Order Traversal\n",
    "Given a binary tree root, return the level order traversal of it as a nested list, where each sublist contains the values of nodes at a particular level in the tree, from left to right."
   ]
  },
  {
   "cell_type": "code",
   "execution_count": null,
   "id": "02443fe6",
   "metadata": {},
   "outputs": [],
   "source": [
    "class Solution:\n",
    "    def levelOrder(self, root: Optional[TreeNode]) -> List[List[int]]:\n",
    "        res = []\n",
    "\n",
    "        def dfs(node, depth):\n",
    "            if not node:\n",
    "                return None\n",
    "            if len(res) == depth:\n",
    "                res.append([])\n",
    "            \n",
    "            res[depth].append(node.val)\n",
    "            dfs(node.left, depth + 1)\n",
    "            dfs(node.right, depth + 1)\n",
    "        \n",
    "        dfs(root, 0)\n",
    "        return res"
   ]
  },
  {
   "cell_type": "markdown",
   "id": "9495b22d",
   "metadata": {},
   "source": [
    "### Binary Tree Right Side View\n",
    "You are given the root of a binary tree. Return only the values of the nodes that are visible from the right side of the tree, ordered from top to bottom."
   ]
  },
  {
   "cell_type": "code",
   "execution_count": null,
   "id": "587b2f4d",
   "metadata": {},
   "outputs": [],
   "source": [
    "class Solution:\n",
    "    def rightSideView(self, root: Optional[TreeNode]) -> List[int]:\n",
    "        res=[]\n",
    "        def dfs(node,depth):\n",
    "            if not node:\n",
    "                return None\n",
    "            if depth==len(res):\n",
    "                res.append([])\n",
    "            res[depth].append(node.val)\n",
    "            dfs(node.left,depth+1)\n",
    "            dfs(node.right,depth+1)\n",
    "        dfs(root,0)\n",
    "        output=[]\n",
    "        for i in range(len(res)):\n",
    "            output.append(res[i][-1])\n",
    "        return output"
   ]
  },
  {
   "cell_type": "markdown",
   "id": "025de9ba",
   "metadata": {},
   "source": [
    "### Count Good Nodes in Binary Tree\n",
    "Within a binary tree, a node x is considered good if the path from the root of the tree to the node x contains no nodes with a value greater than the value of node x\n",
    "\n",
    "Given the root of a binary tree root, return the number of good nodes within the tree."
   ]
  },
  {
   "cell_type": "code",
   "execution_count": null,
   "id": "84055c99",
   "metadata": {},
   "outputs": [],
   "source": [
    "class Solution:\n",
    "    def goodNodes(self, root: TreeNode) -> int:\n",
    "        def ll(t,maxx):\n",
    "            if not t:\n",
    "                return 0\n",
    "            \n",
    "            if t.val>=maxx:\n",
    "                count=1\n",
    "            else:\n",
    "                count=0\n",
    "            maxx=max(t.val,maxx)\n",
    "            count+=ll(t.left,maxx)\n",
    "            count+=ll(t.right,maxx)\n",
    "            return count\n",
    "        \n",
    "        return ll(root,root.val)"
   ]
  },
  {
   "cell_type": "markdown",
   "id": "f3e7e474",
   "metadata": {},
   "source": [
    "### Valid Binary Search Tree\n",
    "Given the root of a binary tree, return true if it is a valid binary search tree, otherwise return false.\n",
    "\n",
    "A valid binary search tree satisfies the following constraints:\n",
    "\n",
    "The left subtree of every node contains only nodes with keys less than the node's key.\n",
    "\n",
    "The right subtree of every node contains only nodes with keys greater than the node's key.\n",
    "\n",
    "Both the left and right subtrees are also binary search trees."
   ]
  },
  {
   "cell_type": "code",
   "execution_count": null,
   "id": "11b32ec9",
   "metadata": {},
   "outputs": [],
   "source": [
    "class Solution:\n",
    "    def isValidBST(self, root: Optional[TreeNode]) -> bool:\n",
    "        def check(node,l,r):\n",
    "            if not node:\n",
    "                return True\n",
    "            if not (l < node.val < r):\n",
    "                return False\n",
    "            return check(node.left,l,node.val) and check(node.right,node.val,r)\n",
    "        return check(root,float(\"-inf\"),float(\"inf\"))"
   ]
  },
  {
   "cell_type": "markdown",
   "id": "1008e1df",
   "metadata": {},
   "source": [
    "### Kth Smallest Integer in BST\n",
    "Given the root of a binary search tree, and an integer k, return the kth smallest value (1-indexed) in the tree.\n",
    "\n",
    "A binary search tree satisfies the following constraints:\n",
    "\n",
    "The left subtree of every node contains only nodes with keys less than the node's key.\n",
    "\n",
    "The right subtree of every node contains only nodes with keys greater than the node's key.\n",
    "\n",
    "Both the left and right subtrees are also binary search trees."
   ]
  },
  {
   "cell_type": "code",
   "execution_count": null,
   "id": "87a9df7a",
   "metadata": {},
   "outputs": [],
   "source": [
    "class Solution:\n",
    "    def kthSmallest(self, root: Optional[TreeNode], k: int) -> int:\n",
    "        def trav(node):\n",
    "            \n",
    "            if not node:\n",
    "                return []\n",
    "            \n",
    "            return trav(node.left)+[node.val]+trav(node.right)\n",
    "        l=trav(root)\n",
    "        return l[k-1]"
   ]
  },
  {
   "cell_type": "markdown",
   "id": "e434b9d6",
   "metadata": {},
   "source": [
    "### Construct Binary Tree from Preorder and Inorder Traversal\n",
    "You are given two integer arrays preorder and inorder.\n",
    "\n",
    "preorder is the preorder traversal of a binary tree.\n",
    "\n",
    "inorder is the inorder traversal of the same tree.\n",
    "\n",
    "Both arrays are of the same size and consist of unique values.\n",
    "\n",
    "Rebuild the binary tree from the preorder and inorder traversals and return its root."
   ]
  },
  {
   "cell_type": "code",
   "execution_count": null,
   "id": "e052da42",
   "metadata": {},
   "outputs": [],
   "source": [
    "class Solution:\n",
    "    def buildTree(self, preorder: List[int], inorder: List[int]) -> Optional[TreeNode]:\n",
    "        if len(preorder)==0:\n",
    "            return None\n",
    "        node=TreeNode(preorder[0])\n",
    "        k=inorder.index(preorder[0])\n",
    "        node.left=self.buildTree(preorder[1:k+1],inorder[:k])\n",
    "        node.right=self.buildTree(preorder[k+1:],inorder[k+1:])\n",
    "        return node"
   ]
  },
  {
   "cell_type": "markdown",
   "id": "c00ecaaa",
   "metadata": {},
   "source": [
    "### Binary Tree Maximum Path Sum\n",
    "Given the root of a non-empty binary tree, return the maximum path sum of any non-empty path.\n",
    "\n",
    "A path in a binary tree is a sequence of nodes where each pair of adjacent nodes has an edge connecting them. A node can not appear in the sequence more than once. The path does not necessarily need to include the root.\n",
    "\n",
    "The path sum of a path is the sum of the node's values in the path."
   ]
  },
  {
   "cell_type": "code",
   "execution_count": null,
   "id": "8c8888c9",
   "metadata": {},
   "outputs": [],
   "source": [
    "class Solution:\n",
    "    def maxPathSum(self, root: Optional[TreeNode]) -> int:\n",
    "        res=[root.val]\n",
    "        def dfs(root):\n",
    "            if not root:\n",
    "                return 0\n",
    "            leftMax=max(dfs(root.left),0)\n",
    "            rightMax=max(dfs(root.right),0)\n",
    "            res[0]=max(res[0],root.val+leftMax+rightMax)\n",
    "            return root.val+max(leftMax,rightMax)\n",
    "        dfs(root)\n",
    "        return res[0]"
   ]
  }
 ],
 "metadata": {
  "kernelspec": {
   "display_name": "Python 3 (ipykernel)",
   "language": "python",
   "name": "python3"
  },
  "language_info": {
   "codemirror_mode": {
    "name": "ipython",
    "version": 3
   },
   "file_extension": ".py",
   "mimetype": "text/x-python",
   "name": "python",
   "nbconvert_exporter": "python",
   "pygments_lexer": "ipython3",
   "version": "3.11.4"
  }
 },
 "nbformat": 4,
 "nbformat_minor": 5
}

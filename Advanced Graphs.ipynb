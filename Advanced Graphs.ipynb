{
 "cells": [
  {
   "cell_type": "markdown",
   "id": "fce6b4be",
   "metadata": {},
   "source": [
    "### Network Delay Time\n",
    "\n",
    "You are given a network of n directed nodes, labeled from 1 to n. You are also given times, a list of directed edges where times[i] = (ui, vi, ti).\n",
    "\n",
    "ui is the source node (an integer from 1 to n)\n",
    "vi is the target node (an integer from 1 to n)\n",
    "ti is the time it takes for a signal to travel from the source to the target node (an integer greater than or equal to 0).\n",
    "You are also given an integer k, representing the node that we will send a signal from.\n",
    "\n",
    "Return the minimum time it takes for all of the n nodes to receive the signal. If it is impossible for all the nodes to receive the signal, return -1 instead."
   ]
  },
  {
   "cell_type": "code",
   "execution_count": null,
   "id": "dae7556e",
   "metadata": {},
   "outputs": [],
   "source": [
    "class Solution:\n",
    "    def networkDelayTime(self, times: List[List[int]], n: int, k: int) -> int:\n",
    "        edges=collections.defaultdict(list)\n",
    "        for u,v,w in times:\n",
    "            edges[u].append((v,w))\n",
    "        minHeap=[[0,k]]\n",
    "        visit=set()\n",
    "        t=0\n",
    "        while minHeap:\n",
    "            l1,n1=heapq.heappop(minHeap)\n",
    "            if n1 in visit:\n",
    "                continue\n",
    "            visit.add(n1)\n",
    "            t=max(t,l1)\n",
    "            for n2,l2 in edges[n1]:\n",
    "                if n2 not in visit:\n",
    "                    heapq.heappush(minHeap,(l2+l1,n2))\n",
    "        return t if len(visit)==n else -1"
   ]
  },
  {
   "cell_type": "markdown",
   "id": "464a79aa",
   "metadata": {},
   "source": [
    "### Min Cost to Connect Points\n",
    " \n",
    "You are given a 2-D integer array points, where points[i] = [xi, yi]. Each points[i] represents a distinct point on a 2-D plane.\n",
    "\n",
    "The cost of connecting two points [xi, yi] and [xj, yj] is the manhattan distance between the two points, i.e. |xi - xj| + |yi - yj|.\n",
    "\n",
    "Return the minimum cost to connect all points together, such that there exists exactly one path between each pair of points."
   ]
  },
  {
   "cell_type": "code",
   "execution_count": null,
   "id": "936ebd3a",
   "metadata": {},
   "outputs": [],
   "source": [
    "class Solution:\n",
    "    def minCostConnectPoints(self, points: List[List[int]]) -> int:\n",
    "        N=len(points)\n",
    "        m={i:[] for i in range(N)}\n",
    "        for i in range(N-1):\n",
    "            for j in range(i+1,N):\n",
    "                d=abs(points[i][0]-points[j][0])+abs(points[i][1]-points[j][1])\n",
    "                m[i].append([d,j])\n",
    "                m[j].append([d,i])\n",
    "        visit=set()\n",
    "        res=0\n",
    "        z=[[0,0]]\n",
    "        while len(visit)<N:\n",
    "            n,i=heapq.heappop(z)\n",
    "            if i in visit:\n",
    "                continue\n",
    "            visit.add(i)\n",
    "            res+=n\n",
    "            for nc,nei in m[i]:\n",
    "                if nei not in visit:\n",
    "                    heapq.heappush(z,[nc,nei])\n",
    "        return res"
   ]
  },
  {
   "cell_type": "markdown",
   "id": "b3e26ade",
   "metadata": {},
   "source": [
    "### Cheapest Flights Within K Stops\n",
    "\n",
    "There are n airports, labeled from 0 to n - 1, which are connected by some flights. You are given an array flights where flights[i] = [from_i, to_i, price_i] represents a one-way flight from airport from_i to airport to_i with cost price_i. You may assume there are no duplicate flights and no flights from an airport to itself.\n",
    "\n",
    "You are also given three integers src, dst, and k where:\n",
    "\n",
    "src is the starting airport\n",
    "dst is the destination airport\n",
    "src != dst\n",
    "k is the maximum number of stops you can make (not including src and dst)\n",
    "Return the cheapest price from src to dst with at most k stops, or return -1 if it is impossible."
   ]
  },
  {
   "cell_type": "code",
   "execution_count": null,
   "id": "2fb9c413",
   "metadata": {},
   "outputs": [],
   "source": [
    "class Solution:\n",
    "    def findCheapestPrice(self, n: int, flights: List[List[int]], src: int, dst: int, k: int) -> int:\n",
    "        prices=[float(\"infinity\")]*n\n",
    "        prices[src]=0\n",
    "        for i in range(k+1):\n",
    "            tmp=prices.copy()\n",
    "            for s,d,p in flights:\n",
    "                if prices[s]==float(\"infinity\"):\n",
    "                    continue\n",
    "                if prices[s]+p<tmp[d]:\n",
    "                    tmp[d]=prices[s]+p\n",
    "            prices=tmp\n",
    "        return -1 if prices[dst]==float(\"infinity\") else prices[dst]"
   ]
  }
 ],
 "metadata": {
  "kernelspec": {
   "display_name": "Python 3 (ipykernel)",
   "language": "python",
   "name": "python3"
  },
  "language_info": {
   "codemirror_mode": {
    "name": "ipython",
    "version": 3
   },
   "file_extension": ".py",
   "mimetype": "text/x-python",
   "name": "python",
   "nbconvert_exporter": "python",
   "pygments_lexer": "ipython3",
   "version": "3.11.4"
  }
 },
 "nbformat": 4,
 "nbformat_minor": 5
}
